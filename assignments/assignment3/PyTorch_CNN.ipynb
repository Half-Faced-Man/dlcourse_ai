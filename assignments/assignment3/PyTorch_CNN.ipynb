{
  "nbformat": 4,
  "nbformat_minor": 0,
  "metadata": {
    "colab": {
      "name": "PyTorch_CNN.ipynb",
      "provenance": [],
      "collapsed_sections": [],
      "toc_visible": true
    },
    "kernelspec": {
      "display_name": "Python 3",
      "language": "python",
      "name": "python3"
    },
    "language_info": {
      "codemirror_mode": {
        "name": "ipython",
        "version": 3
      },
      "file_extension": ".py",
      "mimetype": "text/x-python",
      "name": "python",
      "nbconvert_exporter": "python",
      "pygments_lexer": "ipython3",
      "version": "3.7.0"
    },
    "accelerator": "GPU"
  },
  "cells": [
    {
      "cell_type": "markdown",
      "metadata": {
        "id": "dGSy-CL4CLU4"
      },
      "source": [
        "# Задание 3.2 - сверточные нейронные сети (CNNs) в PyTorch\n",
        "\n",
        "Это упражнение мы буде выполнять в Google Colab - https://colab.research.google.com/  \n",
        "Google Colab позволяет запускать код в notebook в облаке Google, где можно воспользоваться бесплатным GPU!  \n",
        "\n",
        "Авторы курса благодарят компанию Google и надеятся, что праздник не закончится.\n",
        "\n",
        "Туториал по настройке Google Colab:  \n",
        "https://medium.com/deep-learning-turkey/google-colab-free-gpu-tutorial-e113627b9f5d  \n",
        "(Keras инсталлировать не нужно, наш notebook сам установит PyTorch)\n"
      ]
    },
    {
      "cell_type": "code",
      "metadata": {
        "colab": {
          "base_uri": "https://localhost:8080/"
        },
        "id": "FcXBeP1O7cnY",
        "outputId": "03a214d2-57d4-4fd9-dc04-bd03c94b9c53"
      },
      "source": [
        "# Intstall PyTorch and download data\n",
        "!pip3 install torch torchvision\n",
        "\n",
        "!wget -c http://ufldl.stanford.edu/housenumbers/train_32x32.mat http://ufldl.stanford.edu/housenumbers/test_32x32.mat"
      ],
      "execution_count": 1,
      "outputs": [
        {
          "output_type": "stream",
          "text": [
            "Requirement already satisfied: torch in /usr/local/lib/python3.6/dist-packages (1.7.0+cu101)\n",
            "Requirement already satisfied: torchvision in /usr/local/lib/python3.6/dist-packages (0.8.1+cu101)\n",
            "Requirement already satisfied: typing-extensions in /usr/local/lib/python3.6/dist-packages (from torch) (3.7.4.3)\n",
            "Requirement already satisfied: numpy in /usr/local/lib/python3.6/dist-packages (from torch) (1.19.5)\n",
            "Requirement already satisfied: dataclasses in /usr/local/lib/python3.6/dist-packages (from torch) (0.8)\n",
            "Requirement already satisfied: future in /usr/local/lib/python3.6/dist-packages (from torch) (0.16.0)\n",
            "Requirement already satisfied: pillow>=4.1.1 in /usr/local/lib/python3.6/dist-packages (from torchvision) (7.0.0)\n",
            "--2021-02-01 14:14:53--  http://ufldl.stanford.edu/housenumbers/train_32x32.mat\n",
            "Resolving ufldl.stanford.edu (ufldl.stanford.edu)... 171.64.68.10\n",
            "Connecting to ufldl.stanford.edu (ufldl.stanford.edu)|171.64.68.10|:80... connected.\n",
            "HTTP request sent, awaiting response... 200 OK\n",
            "Length: 182040794 (174M) [text/plain]\n",
            "Saving to: ‘train_32x32.mat’\n",
            "\n",
            "train_32x32.mat     100%[===================>] 173.61M  81.7MB/s    in 2.1s    \n",
            "\n",
            "2021-02-01 14:14:55 (81.7 MB/s) - ‘train_32x32.mat’ saved [182040794/182040794]\n",
            "\n",
            "--2021-02-01 14:14:55--  http://ufldl.stanford.edu/housenumbers/test_32x32.mat\n",
            "Reusing existing connection to ufldl.stanford.edu:80.\n",
            "HTTP request sent, awaiting response... 200 OK\n",
            "Length: 64275384 (61M) [text/plain]\n",
            "Saving to: ‘test_32x32.mat’\n",
            "\n",
            "test_32x32.mat      100%[===================>]  61.30M  24.2MB/s    in 2.5s    \n",
            "\n",
            "2021-02-01 14:14:58 (24.2 MB/s) - ‘test_32x32.mat’ saved [64275384/64275384]\n",
            "\n",
            "FINISHED --2021-02-01 14:14:58--\n",
            "Total wall clock time: 4.7s\n",
            "Downloaded: 2 files, 235M in 4.7s (50.4 MB/s)\n"
          ],
          "name": "stdout"
        }
      ]
    },
    {
      "cell_type": "code",
      "metadata": {
        "colab": {
          "base_uri": "https://localhost:8080/"
        },
        "id": "JcehaCWjBJtD",
        "outputId": "b7d6332e-3954-4b33-d66c-f88a64a8319e"
      },
      "source": [
        "! pwd"
      ],
      "execution_count": 2,
      "outputs": [
        {
          "output_type": "stream",
          "text": [
            "/content\n"
          ],
          "name": "stdout"
        }
      ]
    },
    {
      "cell_type": "code",
      "metadata": {
        "id": "fGDwuYPKBMGP",
        "colab": {
          "base_uri": "https://localhost:8080/"
        },
        "outputId": "030c6b44-00ff-434a-bf13-71b8cd7c7438"
      },
      "source": [
        "! ls -la"
      ],
      "execution_count": 3,
      "outputs": [
        {
          "output_type": "stream",
          "text": [
            "total 240564\n",
            "drwxr-xr-x 1 root root      4096 Feb  1 14:14 .\n",
            "drwxr-xr-x 1 root root      4096 Feb  1 14:13 ..\n",
            "drwxr-xr-x 1 root root      4096 Jan 28 17:15 .config\n",
            "drwxr-xr-x 1 root root      4096 Jan 20 17:27 sample_data\n",
            "-rw-r--r-- 1 root root  64275384 Dec  6  2011 test_32x32.mat\n",
            "-rw-r--r-- 1 root root 182040794 Dec  6  2011 train_32x32.mat\n"
          ],
          "name": "stdout"
        }
      ]
    },
    {
      "cell_type": "code",
      "metadata": {
        "id": "-afwWw-Q85vD"
      },
      "source": [
        "from collections import namedtuple\n",
        "\n",
        "import matplotlib.pyplot as plt\n",
        "import numpy as np\n",
        "import PIL\n",
        "import torch\n",
        "import torch.nn as nn\n",
        "import torch.optim as optim\n",
        "import torchvision.datasets as dset\n",
        "from torch.utils.data.sampler import SubsetRandomSampler\n",
        "\n",
        "from torchvision import transforms"
      ],
      "execution_count": 4,
      "outputs": []
    },
    {
      "cell_type": "code",
      "metadata": {
        "id": "NNU-OD9O9ltP"
      },
      "source": [
        "device = torch.device(\"cuda:0\") # Let's make sure GPU is available!"
      ],
      "execution_count": 5,
      "outputs": []
    },
    {
      "cell_type": "code",
      "metadata": {
        "colab": {
          "base_uri": "https://localhost:8080/"
        },
        "id": "H05mttO7HkJ6",
        "outputId": "1f3ce1f4-9dd4-4f9c-cda2-03cc2a707c0e"
      },
      "source": [
        "device"
      ],
      "execution_count": 6,
      "outputs": [
        {
          "output_type": "execute_result",
          "data": {
            "text/plain": [
              "device(type='cuda', index=0)"
            ]
          },
          "metadata": {
            "tags": []
          },
          "execution_count": 6
        }
      ]
    },
    {
      "cell_type": "markdown",
      "metadata": {
        "id": "6LYvec5_CLU5"
      },
      "source": [
        "# Загружаем данные"
      ]
    },
    {
      "cell_type": "code",
      "metadata": {
        "id": "YAvkoRx-9FsP"
      },
      "source": [
        "# First, lets load the dataset\n",
        "data_train = dset.SVHN('./', \n",
        "                       transform=transforms.Compose([\n",
        "                           transforms.ToTensor(),\n",
        "                           transforms.Normalize(mean=[0.43,0.44,0.47],\n",
        "                                               std=[0.20,0.20,0.20])                           \n",
        "                       ])\n",
        "                      )\n",
        "data_test = dset.SVHN('./', split='test', transform=transforms.Compose([\n",
        "                           transforms.ToTensor(),\n",
        "                           transforms.Normalize(mean=[0.43,0.44,0.47],\n",
        "                                               std=[0.20,0.20,0.20])                           \n",
        "                       ]))"
      ],
      "execution_count": 7,
      "outputs": []
    },
    {
      "cell_type": "markdown",
      "metadata": {
        "id": "tyeOCUdpCLU5"
      },
      "source": [
        "Разделяем данные на training и validation.\n",
        "\n",
        "На всякий случай для подробностей - https://pytorch.org/tutorials/beginner/data_loading_tutorial.html"
      ]
    },
    {
      "cell_type": "code",
      "metadata": {
        "id": "YRnr8CPg7Hli"
      },
      "source": [
        "batch_size = 64\n",
        "\n",
        "data_size = data_train.data.shape[0]\n",
        "validation_split = .2\n",
        "split = int(np.floor(validation_split * data_size))\n",
        "indices = list(range(data_size))\n",
        "np.random.shuffle(indices)\n",
        "\n",
        "train_indices, val_indices = indices[split:], indices[:split]\n",
        "\n",
        "train_sampler = SubsetRandomSampler(train_indices)\n",
        "val_sampler = SubsetRandomSampler(val_indices)\n",
        "\n",
        "train_loader = torch.utils.data.DataLoader(data_train, batch_size=batch_size, \n",
        "                                           sampler=train_sampler)\n",
        "val_loader = torch.utils.data.DataLoader(data_train, batch_size=batch_size,\n",
        "                                         sampler=val_sampler)"
      ],
      "execution_count": 8,
      "outputs": []
    },
    {
      "cell_type": "code",
      "metadata": {
        "id": "LyYvt-T67PBG"
      },
      "source": [
        "# We'll use a special helper module to shape it into a flat tensor\n",
        "class Flattener(nn.Module):\n",
        "    def forward(self, x):\n",
        "        batch_size, *_ = x.shape\n",
        "        return x.view(batch_size, -1)"
      ],
      "execution_count": 9,
      "outputs": []
    },
    {
      "cell_type": "markdown",
      "metadata": {
        "id": "PF_VRPCMCLU5"
      },
      "source": [
        "Создадим простейшую сеть с новыми слоями:  \n",
        "Convolutional - `nn.Conv2d`  \n",
        "MaxPool - `nn.MaxPool2d`"
      ]
    },
    {
      "cell_type": "code",
      "metadata": {
        "id": "w9SFVGZP7SQd"
      },
      "source": [
        "nn_model = nn.Sequential(\n",
        "            nn.Conv2d(3, 64, 3, padding=1),\n",
        "            nn.ReLU(inplace=True),\n",
        "            nn.MaxPool2d(4),\n",
        "            nn.Conv2d(64, 64, 3, padding=1),\n",
        "            nn.ReLU(inplace=True),\n",
        "            nn.MaxPool2d(4),    \n",
        "            Flattener(),\n",
        "            nn.Linear(64*2*2, 10),\n",
        "          )\n",
        "\n",
        "nn_model.type(torch.cuda.FloatTensor)\n",
        "nn_model.to(device)\n",
        "\n",
        "loss = nn.CrossEntropyLoss().type(torch.cuda.FloatTensor)\n",
        "optimizer = optim.SGD(nn_model.parameters(), lr=1e-1, weight_decay=1e-4)"
      ],
      "execution_count": null,
      "outputs": []
    },
    {
      "cell_type": "markdown",
      "metadata": {
        "id": "oiRGIgg2CLU5"
      },
      "source": [
        "Восстановите функцию `compute_accuracy` из прошлого задания.  \n",
        "Единственное отличие в новом - она должна передать данные на GPU прежде чем прогонять через модель. Сделайте это так же, как это делает функция `train_model`"
      ]
    },
    {
      "cell_type": "code",
      "metadata": {
        "id": "2ek3KVQK7hJ6",
        "colab": {
          "base_uri": "https://localhost:8080/"
        },
        "outputId": "ed91a43f-b90e-416e-b92f-ca5719a8e560"
      },
      "source": [
        "def train_model(model, train_loader, val_loader, loss, optimizer, num_epochs):    \n",
        "    loss_history = []\n",
        "    train_history = []\n",
        "    val_history = []\n",
        "    for epoch in range(num_epochs):\n",
        "        model.train() # Enter train mode\n",
        "        \n",
        "        loss_accum = 0\n",
        "        correct_samples = 0\n",
        "        total_samples = 0\n",
        "        for i_step, (x, y) in enumerate(train_loader):\n",
        "          \n",
        "            x_gpu = x.to(device)\n",
        "            y_gpu = y.to(device)\n",
        "            prediction = model(x_gpu)    \n",
        "            loss_value = loss(prediction, y_gpu)\n",
        "            optimizer.zero_grad()\n",
        "            loss_value.backward()\n",
        "            optimizer.step()\n",
        "            \n",
        "            _, indices = torch.max(prediction, 1)\n",
        "            correct_samples += torch.sum(indices == y_gpu)\n",
        "            total_samples += y.shape[0]\n",
        "            \n",
        "            loss_accum += loss_value\n",
        "\n",
        "        ave_loss = loss_accum / i_step\n",
        "        train_accuracy = float(correct_samples) / total_samples\n",
        "        val_accuracy = compute_accuracy(model, val_loader)\n",
        "        \n",
        "        loss_history.append(float(ave_loss))\n",
        "        train_history.append(train_accuracy)\n",
        "        val_history.append(val_accuracy)\n",
        "        \n",
        "        print(\"Average loss: %f, Train accuracy: %f, Val accuracy: %f\" % (ave_loss, train_accuracy, val_accuracy))\n",
        "        \n",
        "    return loss_history, train_history, val_history\n",
        "        \n",
        "def compute_accuracy(model, loader):\n",
        "    \"\"\"\n",
        "    Computes accuracy on the dataset wrapped in a loader\n",
        "    \n",
        "    Returns: accuracy as a float value between 0 and 1\n",
        "    \"\"\"\n",
        "    model.eval() # Evaluation mode\n",
        "    # TODO: Copy implementation from previous assignment\n",
        "    # Don't forget to move the data to device before running it through the model!\n",
        "\n",
        "    loss_accum = 0\n",
        "    correct_samples = 0\n",
        "    total_samples = 0\n",
        "    for i_step, (x, y) in enumerate(loader):\n",
        "\n",
        "        x_gpu = x.to(device)\n",
        "        y_gpu = y.to(device)\n",
        "        prediction = model(x_gpu) \n",
        "        _, indices = torch.max(prediction, 1)\n",
        "\n",
        "        correct_samples += torch.sum(indices == y_gpu)\n",
        "        total_samples += y.shape[0]\n",
        "    \n",
        "    val_accuracy = float(correct_samples) / total_samples\n",
        "    \n",
        "    return val_accuracy #raise Exception(\"Not implemented\")\n",
        "\n",
        "loss_history, train_history, val_history = train_model(nn_model, train_loader, val_loader, loss, optimizer, 5)"
      ],
      "execution_count": null,
      "outputs": [
        {
          "output_type": "stream",
          "text": [
            "Average loss: 1.375608, Train accuracy: 0.539723, Val accuracy: 0.748345\n",
            "Average loss: 0.711646, Train accuracy: 0.784766, Val accuracy: 0.790185\n",
            "Average loss: 0.604644, Train accuracy: 0.816862, Val accuracy: 0.826770\n",
            "Average loss: 0.553606, Train accuracy: 0.835085, Val accuracy: 0.832912\n",
            "Average loss: 0.520369, Train accuracy: 0.846637, Val accuracy: 0.821923\n"
          ],
          "name": "stdout"
        }
      ]
    },
    {
      "cell_type": "markdown",
      "metadata": {
        "id": "6a-3a1ZFGEw_"
      },
      "source": [
        "# Аугментация данных (Data augmentation)\n",
        "\n",
        "В работе с изображениями одним из особенно важных методов является аугментация данных - то есть, генерация дополнительных данных для тренировки на основе изначальных.   \n",
        "Таким образом, мы получаем возможность \"увеличить\" набор данных для тренировки, что ведет к лучшей работе сети.\n",
        "Важно, чтобы аугментированные данные были похожи на те, которые могут встретиться в реальной жизни, иначе польза от аугментаций уменьшается и может ухудшить работу сети.\n",
        "\n",
        "С PyTorch идут несколько таких алгоритмов, называемых `transforms`. Более подробно про них можно прочитать тут -\n",
        "https://pytorch.org/tutorials/beginner/data_loading_tutorial.html#transforms\n",
        "\n",
        "Ниже мы используем следующие алгоритмы генерации:\n",
        "- ColorJitter - случайное изменение цвета\n",
        "- RandomHorizontalFlip - горизонтальное отражение с вероятностью 50%\n",
        "- RandomVerticalFlip - вертикальное отражение с вероятностью 50%\n",
        "- RandomRotation - случайный поворот"
      ]
    },
    {
      "cell_type": "code",
      "metadata": {
        "id": "jCWMUWmr7t5g"
      },
      "source": [
        "tfs = transforms.Compose([\n",
        "    transforms.ColorJitter(hue=.50, saturation=.50),\n",
        "    transforms.RandomHorizontalFlip(),\n",
        "    transforms.RandomVerticalFlip(),\n",
        "    transforms.RandomRotation(50, resample=PIL.Image.BILINEAR),\n",
        "    transforms.ToTensor(),\n",
        "    transforms.Normalize(mean=[0.43,0.44,0.47],\n",
        "                       std=[0.20,0.20,0.20])                           \n",
        "])\n",
        "\n",
        "# Create augmented train dataset\n",
        "data_aug_train = dset.SVHN('./', \n",
        "                       transform=tfs\n",
        "                      )\n",
        "\n",
        "train_aug_loader = torch.utils.data.DataLoader(data_aug_train, batch_size=batch_size, \n",
        "                                           sampler=train_sampler)"
      ],
      "execution_count": null,
      "outputs": []
    },
    {
      "cell_type": "markdown",
      "metadata": {
        "id": "Lrd5mEK3CLU5"
      },
      "source": [
        "Визуализируем результаты агментации (вообще, смотреть на сгенерированные данные всегда очень полезно)."
      ]
    },
    {
      "cell_type": "code",
      "metadata": {
        "id": "YlJJEro1KZ45",
        "colab": {
          "base_uri": "https://localhost:8080/",
          "height": 93
        },
        "outputId": "262aa6b6-101d-4a7a-b809-8ac0dccd6c60"
      },
      "source": [
        "# TODO: Visualize some augmented images!\n",
        "# hint: you can create new datasets and loaders to accomplish this\n",
        "\n",
        "# Based on the visualizations, should we keep all the augmentations?\n",
        "\n",
        "tfs = transforms.Compose([\n",
        "    transforms.ColorJitter(hue=.20, saturation=.20),\n",
        "    transforms.RandomHorizontalFlip(),\n",
        "    transforms.RandomVerticalFlip(),\n",
        "    transforms.RandomRotation(10, resample=PIL.Image.BILINEAR),\n",
        "])\n",
        "\n",
        "data_aug_vis = dset.SVHN('./', \n",
        "                       transform=tfs\n",
        "                      )\n",
        "\n",
        "plt.figure(figsize=(30, 3))\n",
        "\n",
        "for i, (x, y) in enumerate(data_aug_vis):\n",
        "    if i == 10:\n",
        "        break\n",
        "    plt.subplot(1, 10, i+1)\n",
        "    plt.grid(False)\n",
        "    plt.imshow(x)\n",
        "    plt.axis('off')"
      ],
      "execution_count": null,
      "outputs": [
        {
          "output_type": "display_data",
          "data": {
            "image/png": "[encoded data removed]",
            "text/plain": [
              "<Figure size 2160x216 with 10 Axes>"
            ]
          },
          "metadata": {
            "tags": [],
            "needs_background": "light"
          }
        }
      ]
    },
    {
      "cell_type": "markdown",
      "metadata": {
        "id": "o2LrmsYHoguB"
      },
      "source": [
        "Все ли агментации одинаково полезны на этом наборе данных? Могут ли быть среди них те, которые собьют модель с толку?\n",
        "\n",
        "Выберите из них только корректные"
      ]
    },
    {
      "cell_type": "code",
      "metadata": {
        "colab": {
          "base_uri": "https://localhost:8080/",
          "height": 181
        },
        "id": "wlZ1q0yxsLmQ",
        "outputId": "64d97102-04ac-4a23-d7fe-c1d1352d3e3e"
      },
      "source": [
        "# TODO: Visualize some augmented images!\n",
        "# hint: you can create new datasets and loaders to accomplish this\n",
        "\n",
        "# Based on the visualizations, should we keep all the augmentations?\n",
        "\n",
        "tfs = transforms.Compose([\n",
        "    transforms.ColorJitter(hue=.20, saturation=.20),\n",
        "    # transforms.RandomHorizontalFlip(),\n",
        "    # transforms.RandomVerticalFlip(),\n",
        "    transforms.RandomRotation(10, resample=PIL.Image.BILINEAR),\n",
        "])\n",
        "\n",
        "data_aug_vis = dset.SVHN('./', \n",
        "                       transform=tfs\n",
        "                      )\n",
        "\n",
        "plt.figure(figsize=(30, 6))\n",
        "\n",
        "for i, (x, y) in enumerate(data_aug_vis):\n",
        "    if i == 20:\n",
        "        break\n",
        "    plt.subplot(2, 10, i+1)\n",
        "    plt.grid(False)\n",
        "    plt.imshow(x)\n",
        "    plt.axis('off')"
      ],
      "execution_count": null,
      "outputs": [
        {
          "output_type": "display_data",
          "data": {
            "image/png": "[encoded data removed]",
            "text/plain": [
              "<Figure size 2160x432 with 20 Axes>"
            ]
          },
          "metadata": {
            "tags": [],
            "needs_background": "light"
          }
        }
      ]
    },
    {
      "cell_type": "code",
      "metadata": {
        "id": "hqDarml7vzpU"
      },
      "source": [
        "nn_model = nn.Sequential(\n",
        "            nn.Conv2d(3, 64, 3, padding=1),\n",
        "            nn.ReLU(inplace=True),\n",
        "            nn.MaxPool2d(4),\n",
        "            nn.Conv2d(64, 64, 3, padding=1),\n",
        "            nn.ReLU(inplace=True),\n",
        "            nn.MaxPool2d(4),    \n",
        "            Flattener(),\n",
        "            nn.Linear(64*2*2, 10),\n",
        "          )\n",
        "\n",
        "nn_model.type(torch.cuda.FloatTensor)\n",
        "nn_model.to(device)\n",
        "\n",
        "loss = nn.CrossEntropyLoss().type(torch.cuda.FloatTensor)\n",
        "optimizer = optim.SGD(nn_model.parameters(), lr=1e-1, weight_decay=1e-4)"
      ],
      "execution_count": null,
      "outputs": []
    },
    {
      "cell_type": "code",
      "metadata": {
        "id": "YbDQMhudvntU"
      },
      "source": [
        "# TODO: \n",
        "tfs = transforms.Compose([\n",
        "    # TODO: Add good augmentations\n",
        "    transforms.ColorJitter(hue=.20, saturation=.20),\n",
        "    # transforms.RandomRotation(30, resample=PIL.Image.BILINEAR),\n",
        "    transforms.ToTensor(),\n",
        "    transforms.Normalize(mean=[0.43,0.44,0.47],\n",
        "                       std=[0.20,0.20,0.20])                           \n",
        "])\n",
        "\n",
        "# TODO create new instances of loaders with the augmentations you chose\n",
        "# train_aug_loader = None\n",
        "\n",
        "# Create augmented train dataset\n",
        "data_aug_train = dset.SVHN('./', \n",
        "                       transform=tfs\n",
        "                      )\n",
        "\n",
        "train_aug_loader = torch.utils.data.DataLoader(data_aug_train, batch_size=batch_size, \n",
        "                                           sampler=train_sampler)"
      ],
      "execution_count": null,
      "outputs": []
    },
    {
      "cell_type": "code",
      "metadata": {
        "colab": {
          "base_uri": "https://localhost:8080/"
        },
        "id": "luXgEx0lvnje",
        "outputId": "a243b1b2-8818-4413-97f6-95f7d1e745b6"
      },
      "source": [
        "# Finally, let's train with augmentations!\n",
        "\n",
        "# Note we shouldn't use augmentations on validation\n",
        "\n",
        "loss_history, train_history, val_history = train_model(nn_model, train_aug_loader, val_loader, loss, optimizer, 5)"
      ],
      "execution_count": null,
      "outputs": [
        {
          "output_type": "stream",
          "text": [
            "Average loss: 1.441245, Train accuracy: 0.514981, Val accuracy: 0.737902\n",
            "Average loss: 0.728143, Train accuracy: 0.776047, Val accuracy: 0.793939\n",
            "Average loss: 0.616972, Train accuracy: 0.814473, Val accuracy: 0.827725\n",
            "Average loss: 0.566966, Train accuracy: 0.829915, Val accuracy: 0.835028\n",
            "Average loss: 0.532104, Train accuracy: 0.841689, Val accuracy: 0.840966\n"
          ],
          "name": "stdout"
        }
      ]
    },
    {
      "cell_type": "markdown",
      "metadata": {
        "id": "r0bcioK6JBDK"
      },
      "source": [
        "# LeNet\n",
        "Попробуем имплементировать классическую архитектуру сверточной нейронной сети, предложенную Яном ЛеКуном в 1998 году. В свое время она достигла впечатляющих результатов на MNIST, посмотрим как она справится с SVHN?\n",
        "Она описана в статье [\"Gradient Based Learning Applied to Document Recognition\"](http://yann.lecun.com/exdb/publis/pdf/lecun-01a.pdf), попробуйте прочитать ключевые части и имплементировать предложенную архитетуру на PyTorch.\n",
        "\n",
        "Реализовывать слои и функцию ошибки LeNet, которых нет в PyTorch, **не нужно** - просто возьмите их размеры и переведите в уже известные нам Convolutional, Pooling и Fully Connected layers.\n",
        "\n",
        "Если в статье не очень понятно, можно просто погуглить LeNet и разобраться в деталях :)"
      ]
    },
    {
      "cell_type": "code",
      "metadata": {
        "id": "ieEzZUglJAUB"
      },
      "source": [
        "# TODO: Implement LeNet-like architecture for SVHN task\n",
        "lenet_model = nn.Sequential(\n",
        "            nn.Conv2d(3, 6, 5),\n",
        "            nn.ReLU(inplace=True),\n",
        "            nn.MaxPool2d(2),\n",
        "            nn.Conv2d(6, 16, 5),\n",
        "            nn.ReLU(inplace=True),\n",
        "            nn.MaxPool2d(2),    \n",
        "            Flattener(),\n",
        "            nn.Linear(16*5*5, 120),\n",
        "            nn.ReLU(inplace=True),\n",
        "            nn.Linear(120, 84),\n",
        "            nn.ReLU(inplace=True),\n",
        "            nn.Linear(84, 10),\n",
        "          )\n",
        "\n",
        "lenet_model.type(torch.cuda.FloatTensor)\n",
        "lenet_model.to(device)\n",
        "\n",
        "loss = nn.CrossEntropyLoss().type(torch.cuda.FloatTensor)\n",
        "optimizer = optim.SGD(lenet_model.parameters(), lr=1e-1, weight_decay=1e-4)"
      ],
      "execution_count": null,
      "outputs": []
    },
    {
      "cell_type": "code",
      "metadata": {
        "id": "WMmaPfdeKk9H",
        "colab": {
          "base_uri": "https://localhost:8080/"
        },
        "outputId": "50bc2879-edc2-4271-e5ef-453e28241bf8"
      },
      "source": [
        "# Let's train it!\n",
        "loss_history, train_history, val_history = train_model(lenet_model, train_aug_loader, val_loader, loss, optimizer, 10)"
      ],
      "execution_count": null,
      "outputs": [
        {
          "output_type": "stream",
          "text": [
            "Average loss: 1.322364, Train accuracy: 0.556001, Val accuracy: 0.822469\n",
            "Average loss: 0.508382, Train accuracy: 0.849555, Val accuracy: 0.862603\n",
            "Average loss: 0.414063, Train accuracy: 0.876907, Val accuracy: 0.861238\n",
            "Average loss: 0.362060, Train accuracy: 0.892690, Val accuracy: 0.886834\n",
            "Average loss: 0.326390, Train accuracy: 0.902433, Val accuracy: 0.890929\n",
            "Average loss: 0.300885, Train accuracy: 0.909207, Val accuracy: 0.884308\n",
            "Average loss: 0.274058, Train accuracy: 0.917210, Val accuracy: 0.898096\n",
            "Average loss: 0.252280, Train accuracy: 0.923165, Val accuracy: 0.889018\n",
            "Average loss: 0.236088, Train accuracy: 0.927704, Val accuracy: 0.902054\n",
            "Average loss: 0.221454, Train accuracy: 0.931048, Val accuracy: 0.897823\n"
          ],
          "name": "stdout"
        }
      ]
    },
    {
      "cell_type": "code",
      "metadata": {
        "id": "tiR0dttgwOQG"
      },
      "source": [
        "lenet_model = nn.Sequential(\n",
        "            nn.Conv2d(3, 6, 5),\n",
        "            nn.ReLU(inplace=True),\n",
        "            nn.MaxPool2d(2),\n",
        "            nn.Conv2d(6, 16, 5),\n",
        "            nn.ReLU(inplace=True),\n",
        "            nn.MaxPool2d(2),    \n",
        "            nn.Conv2d(16, 120, 5),\n",
        "            nn.ReLU(inplace=True),\n",
        "            Flattener(),\n",
        "            nn.Linear(120, 84),\n",
        "            nn.ReLU(inplace=True),\n",
        "            nn.Linear(84, 10),\n",
        "          )\n",
        "\n",
        "lenet_model.type(torch.cuda.FloatTensor)\n",
        "lenet_model.to(device)\n",
        "\n",
        "loss = nn.CrossEntropyLoss().type(torch.cuda.FloatTensor)\n",
        "optimizer = optim.SGD(lenet_model.parameters(), lr=1e-1, weight_decay=1e-4)"
      ],
      "execution_count": null,
      "outputs": []
    },
    {
      "cell_type": "code",
      "metadata": {
        "colab": {
          "base_uri": "https://localhost:8080/"
        },
        "id": "uqbUfYGMwatk",
        "outputId": "be43d270-d07a-4941-9cea-df0f12f87dbe"
      },
      "source": [
        "# Let's train it!\n",
        "loss_history, train_history, val_history = train_model(lenet_model, train_aug_loader, val_loader, loss, optimizer, 10)"
      ],
      "execution_count": null,
      "outputs": [
        {
          "output_type": "stream",
          "text": [
            "Average loss: 1.259967, Train accuracy: 0.576306, Val accuracy: 0.825404\n",
            "Average loss: 0.506859, Train accuracy: 0.848053, Val accuracy: 0.853389\n",
            "Average loss: 0.416961, Train accuracy: 0.874108, Val accuracy: 0.877483\n",
            "Average loss: 0.366090, Train accuracy: 0.890916, Val accuracy: 0.870726\n",
            "Average loss: 0.327068, Train accuracy: 0.902894, Val accuracy: 0.886629\n",
            "Average loss: 0.299906, Train accuracy: 0.908508, Val accuracy: 0.890519\n",
            "Average loss: 0.277577, Train accuracy: 0.916032, Val accuracy: 0.894069\n",
            "Average loss: 0.255115, Train accuracy: 0.922670, Val accuracy: 0.894000\n",
            "Average loss: 0.239301, Train accuracy: 0.926646, Val accuracy: 0.896185\n",
            "Average loss: 0.222291, Train accuracy: 0.930758, Val accuracy: 0.886765\n"
          ],
          "name": "stdout"
        }
      ]
    },
    {
      "cell_type": "markdown",
      "metadata": {
        "id": "u_O9qiYySvuj"
      },
      "source": [
        "# Подбор гиперпараметров"
      ]
    },
    {
      "cell_type": "code",
      "metadata": {
        "id": "9xHj6qr6Q8l2"
      },
      "source": [
        "def compute_accuracy_loss(model, loader):\n",
        "    \"\"\"\n",
        "    Computes accuracy on the dataset wrapped in a loader\n",
        "    \n",
        "    Returns: accuracy as a float value between 0 and 1\n",
        "    \"\"\"\n",
        "    model.eval() # Evaluation mode\n",
        "    # TODO: Copy implementation from previous assignment\n",
        "    # Don't forget to move the data to device before running it through the model!\n",
        "\n",
        "    loss_accum = 0\n",
        "    correct_samples = 0\n",
        "    total_samples = 0\n",
        "    for i_step, (x, y) in enumerate(loader):\n",
        "\n",
        "        x_gpu = x.to(device)\n",
        "        y_gpu = y.to(device)\n",
        "        prediction = model(x_gpu) \n",
        "        _, indices = torch.max(prediction, 1)\n",
        "        loss_value = loss(prediction, y_gpu)\n",
        "        loss_accum += loss_value\n",
        "\n",
        "        correct_samples += torch.sum(indices == y_gpu)\n",
        "        total_samples += y.shape[0]\n",
        "    \n",
        "    result_loss = loss_accum / i_step\n",
        "    accuracy = float(correct_samples) / total_samples\n",
        "    \n",
        "    return accuracy, result_loss #raise Exception(\"Not implemented\")"
      ],
      "execution_count": 10,
      "outputs": []
    },
    {
      "cell_type": "code",
      "metadata": {
        "id": "ws87w7jVQzS0"
      },
      "source": [
        "def train_model(model, train_loader, val_loader, loss, optimizer, num_epochs, an_step, an_epoch):  \n",
        "    sheduler = torch.optim.lr_scheduler.ReduceLROnPlateau(optimizer, factor = an_step, patience = an_epoch) \n",
        "    loss_history = []\n",
        "    train_history = []\n",
        "    val_history = []\n",
        "    for epoch in range(num_epochs):\n",
        "        model.train() # Enter train mode\n",
        "        \n",
        "        loss_accum = 0\n",
        "        correct_samples = 0\n",
        "        total_samples = 0\n",
        "        for i_step, (x, y) in enumerate(train_loader):\n",
        "          \n",
        "            x_gpu = x.to(device)\n",
        "            y_gpu = y.to(device)\n",
        "            prediction = model(x_gpu)    \n",
        "            loss_value = loss(prediction, y_gpu)\n",
        "            optimizer.zero_grad()\n",
        "            loss_value.backward()\n",
        "            optimizer.step()\n",
        "            \n",
        "            _, indices = torch.max(prediction, 1)\n",
        "            correct_samples += torch.sum(indices == y_gpu)\n",
        "            total_samples += y.shape[0]\n",
        "            \n",
        "            loss_accum += loss_value\n",
        "\n",
        "        ave_loss = loss_accum / i_step\n",
        "        train_accuracy = float(correct_samples) / total_samples\n",
        "        val_accuracy, val_loss = compute_accuracy_loss(model, val_loader)\n",
        "\n",
        "        sheduler.step(val_loss)\n",
        "        \n",
        "        loss_history.append(float(ave_loss))\n",
        "        train_history.append(train_accuracy)\n",
        "        val_history.append(val_accuracy)\n",
        "        \n",
        "        print(\"Average loss: %f, Train accuracy: %f, Val accuracy: %f\" % (ave_loss, train_accuracy, val_accuracy))\n",
        "        \n",
        "    return loss_history, train_history, val_history"
      ],
      "execution_count": 14,
      "outputs": []
    },
    {
      "cell_type": "code",
      "metadata": {
        "id": "CRXxvfSMkTR2"
      },
      "source": [
        ""
      ],
      "execution_count": null,
      "outputs": []
    },
    {
      "cell_type": "code",
      "metadata": {
        "id": "ax3hb8YMkS4m"
      },
      "source": [
        "import torch\n",
        "torch.cuda.empty_cache()\n",
        "\n",
        "batch_size = 32"
      ],
      "execution_count": 16,
      "outputs": []
    },
    {
      "cell_type": "code",
      "metadata": {
        "id": "HAllv3xo90Qd"
      },
      "source": [
        "train_loader = torch.utils.data.DataLoader(data_train, batch_size=batch_size, \n",
        "                                           sampler=train_sampler)\n",
        "val_loader = torch.utils.data.DataLoader(data_train, batch_size=batch_size,\n",
        "                                         sampler=val_sampler)"
      ],
      "execution_count": 17,
      "outputs": []
    },
    {
      "cell_type": "code",
      "metadata": {
        "id": "KD-23tjR98qG"
      },
      "source": [
        "tfs = transforms.Compose([\n",
        "    # TODO: Add good augmentations\n",
        "    transforms.ColorJitter(hue=.20, saturation=.20),\n",
        "    # transforms.RandomRotation(30, resample=PIL.Image.BILINEAR),\n",
        "    transforms.ToTensor(),\n",
        "    transforms.Normalize(mean=[0.43,0.44,0.47],\n",
        "                       std=[0.20,0.20,0.20])                           \n",
        "])\n",
        "\n",
        "# TODO create new instances of loaders with the augmentations you chose\n",
        "# train_aug_loader = None\n",
        "\n",
        "# Create augmented train dataset\n",
        "data_aug_train = dset.SVHN('./', \n",
        "                       transform=tfs\n",
        "                      )\n",
        "\n",
        "train_aug_loader = torch.utils.data.DataLoader(data_aug_train, batch_size=batch_size, \n",
        "                                           sampler=train_sampler)"
      ],
      "execution_count": 18,
      "outputs": []
    },
    {
      "cell_type": "code",
      "metadata": {
        "id": "lSQOy9g_-eCV"
      },
      "source": [
        "class Flattener(nn.Module):\n",
        "    def forward(self, x):\n",
        "        batch_size, *_ = x.shape\n",
        "        return x.view(batch_size, -1)"
      ],
      "execution_count": 19,
      "outputs": []
    },
    {
      "cell_type": "code",
      "metadata": {
        "id": "HDGs7_9ij1nx",
        "colab": {
          "base_uri": "https://localhost:8080/"
        },
        "outputId": "3b6ed281-51a7-4cd6-b825-84b632a666bb"
      },
      "source": [
        "import random\n",
        "\n",
        "# The key hyperparameters we're goaing to tune are learning speed, annealing rate and regularization\n",
        "# We also encourage you to try different optimizers as well\n",
        "\n",
        "Hyperparams = namedtuple(\"Hyperparams\", ['learning_rate', 'anneal_epochs', 'reg'])\n",
        "RunResult = namedtuple(\"RunResult\", ['model', 'train_history', 'val_history', 'final_val_accuracy'])\n",
        "\n",
        "learning_rates = [1e0, 1e-1, 1e-2, 1e-3, 1e-4]\n",
        "anneal_coeff = 0.2\n",
        "anneal_epochs = [1, 2, 3, 5, 10] # [1, 5, 10, 15, 20, 50]\n",
        "reg = [1e-3, 1e-4, 1e-5, 1e-7]\n",
        "\n",
        "# batch_size = 32\n",
        "epoch_num = 10\n",
        "\n",
        "# Record all the runs here\n",
        "# Key should be Hyperparams and values should be RunResult\n",
        "run_record = {} \n",
        "\n",
        "# Use grid search or random search and record all runs in run_record dictionnary \n",
        "# Important: perform search in logarithmic space!\n",
        "\n",
        "# TODO: Your code here!\n",
        "n_iter = 20\n",
        "params_grid = [learning_rates, anneal_epochs, reg]\n",
        "\n",
        "for i in range(n_iter):\n",
        "    print(i)\n",
        "    # print([random.choice(params_grid[p]) for p in range(len(params_grid))])\n",
        "    key = Hyperparams(*[random.choice(params_grid[p]) for p in range(len(params_grid)) ])\n",
        "    print(key)\n",
        "    ################################################################\n",
        "    sample_nn_model = nn.Sequential(\n",
        "            # 32x32x3\n",
        "            nn.Conv2d(3, 16, 5, padding=2),\n",
        "            nn.BatchNorm2d(num_features=16),\n",
        "            nn.ReLU(inplace=True),\n",
        "            # 32x32x16\n",
        "            nn.MaxPool2d(2),\n",
        "            # 16x16x16\n",
        "            nn.Conv2d(16, 32, 5),\n",
        "            nn.BatchNorm2d(num_features=32),\n",
        "            nn.ReLU(inplace=True),\n",
        "            # 12x12x32\n",
        "            nn.MaxPool2d(2),   \n",
        "            # 6x6x32 \n",
        "            nn.Conv2d(32, 64, 3),\n",
        "            nn.BatchNorm2d(num_features=64),\n",
        "            nn.ReLU(inplace=True),\n",
        "            # 4x4x64\n",
        "            nn.MaxPool2d(2),\n",
        "            # 2x2x64\n",
        "            Flattener(),\n",
        "            nn.Linear(64*2*2, 128),\n",
        "            nn.BatchNorm1d(num_features=128),\n",
        "            nn.ReLU(inplace=True),\n",
        "            nn.Linear(128, 10),\n",
        "          )\n",
        "\n",
        "    sample_nn_model.type(torch.cuda.FloatTensor)\n",
        "    sample_nn_model.to(device)\n",
        "\n",
        "    loss = nn.CrossEntropyLoss().type(torch.cuda.FloatTensor)\n",
        "    #################################################################\n",
        "\n",
        "    optimizer = optim.Adam(sample_nn_model.parameters(), lr=key[0], weight_decay=key[2]) \n",
        "    # optimizer = optim.SGD(lenet_model.parameters(), lr=key[0] weight_decay=key[2])\n",
        "    loss_history, train_history, val_history = train_model(sample_nn_model, train_aug_loader, val_loader, loss, optimizer, epoch_num, anneal_coeff, key[1])\n",
        "\n",
        "    val = RunResult(*[sample_nn_model, train_history, val_history, val_history[-1]])\n",
        "\n",
        "    run_record[key] = val"
      ],
      "execution_count": null,
      "outputs": [
        {
          "output_type": "stream",
          "text": [
            "0\n",
            "Hyperparams(learning_rate=0.01, anneal_epochs=1, reg=0.0001)\n",
            "Average loss: 0.746865, Train accuracy: 0.757909, Val accuracy: 0.854617\n",
            "Average loss: 0.472583, Train accuracy: 0.855800, Val accuracy: 0.879189\n",
            "Average loss: 0.440408, Train accuracy: 0.865082, Val accuracy: 0.886492\n",
            "Average loss: 0.423483, Train accuracy: 0.872880, Val accuracy: 0.888267\n",
            "Average loss: 0.414194, Train accuracy: 0.872931, Val accuracy: 0.889632\n",
            "Average loss: 0.402488, Train accuracy: 0.876958, Val accuracy: 0.885742\n",
            "Average loss: 0.398607, Train accuracy: 0.878733, Val accuracy: 0.890110\n",
            "Average loss: 0.290967, Train accuracy: 0.912398, Val accuracy: 0.922872\n",
            "Average loss: 0.263189, Train accuracy: 0.922056, Val accuracy: 0.923350\n",
            "Average loss: 0.248757, Train accuracy: 0.925605, Val accuracy: 0.921098\n",
            "1\n",
            "Hyperparams(learning_rate=1.0, anneal_epochs=2, reg=0.001)\n",
            "Average loss: 2.629448, Train accuracy: 0.152425, Val accuracy: 0.113508\n",
            "Average loss: 2.654799, Train accuracy: 0.151691, Val accuracy: 0.074056\n",
            "Average loss: 2.631597, Train accuracy: 0.154592, Val accuracy: 0.184220\n",
            "Average loss: 2.803173, Train accuracy: 0.149370, Val accuracy: 0.116989\n",
            "Average loss: 2.636431, Train accuracy: 0.151111, Val accuracy: 0.145929\n",
            "Average loss: 2.664160, Train accuracy: 0.151930, Val accuracy: 0.089004\n",
            "Average loss: 2.619369, Train accuracy: 0.152919, Val accuracy: 0.105044\n",
            "Average loss: 2.260448, Train accuracy: 0.179999, Val accuracy: 0.189475\n",
            "Average loss: 2.261445, Train accuracy: 0.176023, Val accuracy: 0.189475\n",
            "Average loss: 2.263137, Train accuracy: 0.176791, Val accuracy: 0.189475\n",
            "2\n",
            "Hyperparams(learning_rate=0.01, anneal_epochs=2, reg=1e-07)\n",
            "Average loss: 0.767261, Train accuracy: 0.750264, Val accuracy: 0.871818\n",
            "Average loss: 0.426453, Train accuracy: 0.870320, Val accuracy: 0.892089\n",
            "Average loss: 0.373830, Train accuracy: 0.886889, Val accuracy: 0.906081\n",
            "Average loss: 0.338296, Train accuracy: 0.897621, Val accuracy: 0.909426\n",
            "Average loss: 0.311053, Train accuracy: 0.906307, Val accuracy: 0.909153\n",
            "Average loss: 0.293106, Train accuracy: 0.909276, Val accuracy: 0.914272\n",
            "Average loss: 0.276773, Train accuracy: 0.915213, Val accuracy: 0.912429\n",
            "Average loss: 0.259055, Train accuracy: 0.919360, Val accuracy: 0.917344\n",
            "Average loss: 0.251286, Train accuracy: 0.923711, Val accuracy: 0.915023\n",
            "Average loss: 0.176261, Train accuracy: 0.947207, Val accuracy: 0.925671\n",
            "3\n",
            "Hyperparams(learning_rate=0.001, anneal_epochs=5, reg=0.001)\n",
            "Average loss: 0.629431, Train accuracy: 0.807289, Val accuracy: 0.884854\n",
            "Average loss: 0.395315, Train accuracy: 0.880609, Val accuracy: 0.903829\n",
            "Average loss: 0.352082, Train accuracy: 0.894465, Val accuracy: 0.907447\n",
            "Average loss: 0.329226, Train accuracy: 0.902331, Val accuracy: 0.909836\n",
            "Average loss: 0.310642, Train accuracy: 0.906750, Val accuracy: 0.907378\n",
            "Average loss: 0.298902, Train accuracy: 0.911289, Val accuracy: 0.915228\n",
            "Average loss: 0.292863, Train accuracy: 0.913217, Val accuracy: 0.911474\n",
            "Average loss: 0.284057, Train accuracy: 0.916015, Val accuracy: 0.917548\n",
            "Average loss: 0.277617, Train accuracy: 0.917483, Val accuracy: 0.914682\n",
            "Average loss: 0.275591, Train accuracy: 0.917159, Val accuracy: 0.913180\n",
            "4\n",
            "Hyperparams(learning_rate=0.0001, anneal_epochs=1, reg=0.001)\n",
            "Average loss: 1.167607, Train accuracy: 0.650206, Val accuracy: 0.833117\n",
            "Average loss: 0.571515, Train accuracy: 0.833123, Val accuracy: 0.862876\n",
            "Average loss: 0.464934, Train accuracy: 0.862471, Val accuracy: 0.883216\n",
            "Average loss: 0.415953, Train accuracy: 0.875030, Val accuracy: 0.889837\n",
            "Average loss: 0.382268, Train accuracy: 0.885694, Val accuracy: 0.895024\n",
            "Average loss: 0.352786, Train accuracy: 0.895744, Val accuracy: 0.899324\n",
            "Average loss: 0.334493, Train accuracy: 0.900539, Val accuracy: 0.903488\n",
            "Average loss: 0.315743, Train accuracy: 0.906289, Val accuracy: 0.906355\n",
            "Average loss: 0.302712, Train accuracy: 0.909497, Val accuracy: 0.902601\n",
            "Average loss: 0.289451, Train accuracy: 0.914514, Val accuracy: 0.907856\n",
            "5\n",
            "Hyperparams(learning_rate=0.01, anneal_epochs=1, reg=1e-07)\n",
            "Average loss: 0.722360, Train accuracy: 0.767038, Val accuracy: 0.868337\n",
            "Average loss: 0.424296, Train accuracy: 0.870013, Val accuracy: 0.897072\n",
            "Average loss: 0.370895, Train accuracy: 0.888117, Val accuracy: 0.903147\n",
            "Average loss: 0.338005, Train accuracy: 0.898389, Val accuracy: 0.907447\n",
            "Average loss: 0.311666, Train accuracy: 0.905317, Val accuracy: 0.908675\n",
            "Average loss: 0.292038, Train accuracy: 0.910965, Val accuracy: 0.915228\n",
            "Average loss: 0.273842, Train accuracy: 0.916766, Val accuracy: 0.915910\n",
            "Average loss: 0.257572, Train accuracy: 0.921527, Val accuracy: 0.911951\n",
            "Average loss: 0.181769, Train accuracy: 0.944818, Val accuracy: 0.926080\n",
            "Average loss: 0.161723, Train accuracy: 0.951592, Val accuracy: 0.926626\n",
            "6\n",
            "Hyperparams(learning_rate=0.01, anneal_epochs=5, reg=1e-05)\n",
            "Average loss: 0.697406, Train accuracy: 0.776200, Val accuracy: 0.884854\n",
            "Average loss: 0.422175, Train accuracy: 0.871583, Val accuracy: 0.897004\n",
            "Average loss: 0.379213, Train accuracy: 0.885336, Val accuracy: 0.905672\n",
            "Average loss: 0.350071, Train accuracy: 0.893475, Val accuracy: 0.901031\n",
            "Average loss: 0.333770, Train accuracy: 0.897195, Val accuracy: 0.913316\n",
            "Average loss: 0.318431, Train accuracy: 0.904225, Val accuracy: 0.907310\n",
            "Average loss: 0.305452, Train accuracy: 0.907637, Val accuracy: 0.910723\n",
            "Average loss: 0.302678, Train accuracy: 0.907569, Val accuracy: 0.910928\n",
            "Average loss: 0.293797, Train accuracy: 0.910845, Val accuracy: 0.915910\n",
            "Average loss: 0.285380, Train accuracy: 0.912535, Val accuracy: 0.907174\n",
            "7\n",
            "Hyperparams(learning_rate=0.1, anneal_epochs=2, reg=0.001)\n",
            "Average loss: 1.745240, Train accuracy: 0.380883, Val accuracy: 0.417582\n",
            "Average loss: 1.550185, Train accuracy: 0.449425, Val accuracy: 0.284076\n",
            "Average loss: 1.555598, Train accuracy: 0.449613, Val accuracy: 0.185789\n",
            "Average loss: 1.546410, Train accuracy: 0.449579, Val accuracy: 0.458126\n",
            "Average loss: 1.538990, Train accuracy: 0.453162, Val accuracy: 0.203945\n",
            "Average loss: 1.546265, Train accuracy: 0.451746, Val accuracy: 0.401816\n",
            "Average loss: 1.527086, Train accuracy: 0.458622, Val accuracy: 0.239984\n",
            "Average loss: 1.099854, Train accuracy: 0.636437, Val accuracy: 0.678588\n",
            "Average loss: 0.970821, Train accuracy: 0.689452, Val accuracy: 0.610334\n",
            "Average loss: 0.931961, Train accuracy: 0.702641, Val accuracy: 0.701044\n",
            "8\n",
            "Hyperparams(learning_rate=0.0001, anneal_epochs=10, reg=1e-05)\n",
            "Average loss: 1.148936, Train accuracy: 0.661042, Val accuracy: 0.835370\n",
            "Average loss: 0.569055, Train accuracy: 0.834215, Val accuracy: 0.869156\n",
            "Average loss: 0.457510, Train accuracy: 0.863069, Val accuracy: 0.884445\n",
            "Average loss: 0.407259, Train accuracy: 0.877982, Val accuracy: 0.892431\n",
            "Average loss: 0.369012, Train accuracy: 0.888493, Val accuracy: 0.893113\n",
            "Average loss: 0.342554, Train accuracy: 0.896171, Val accuracy: 0.900758\n",
            "Average loss: 0.319292, Train accuracy: 0.904737, Val accuracy: 0.903215\n",
            "Average loss: 0.300257, Train accuracy: 0.910606, Val accuracy: 0.908061\n",
            "Average loss: 0.286993, Train accuracy: 0.913678, Val accuracy: 0.905808\n",
            "Average loss: 0.275178, Train accuracy: 0.918541, Val accuracy: 0.906013\n",
            "9\n",
            "Hyperparams(learning_rate=0.0001, anneal_epochs=3, reg=0.001)\n",
            "Average loss: 1.136031, Train accuracy: 0.663123, Val accuracy: 0.842468\n",
            "Average loss: 0.546265, Train accuracy: 0.843207, Val accuracy: 0.877210\n",
            "Average loss: 0.441183, Train accuracy: 0.868222, Val accuracy: 0.886697\n",
            "Average loss: 0.392836, Train accuracy: 0.882521, Val accuracy: 0.895366\n",
            "Average loss: 0.362520, Train accuracy: 0.892144, Val accuracy: 0.899939\n",
            "Average loss: 0.335427, Train accuracy: 0.900317, Val accuracy: 0.901235\n",
            "Average loss: 0.318276, Train accuracy: 0.905795, Val accuracy: 0.904375\n",
            "Average loss: 0.300219, Train accuracy: 0.910965, Val accuracy: 0.904170\n",
            "Average loss: 0.287905, Train accuracy: 0.914480, Val accuracy: 0.906832\n",
            "Average loss: 0.274737, Train accuracy: 0.918302, Val accuracy: 0.908539\n",
            "10\n",
            "Hyperparams(learning_rate=0.001, anneal_epochs=5, reg=0.001)\n",
            "Average loss: 0.636867, Train accuracy: 0.803774, Val accuracy: 0.880896\n",
            "Average loss: 0.408002, Train accuracy: 0.876531, Val accuracy: 0.891748\n",
            "Average loss: 0.360246, Train accuracy: 0.892059, Val accuracy: 0.907651\n",
            "Average loss: 0.336242, Train accuracy: 0.899515, Val accuracy: 0.913180\n",
            "Average loss: 0.318001, Train accuracy: 0.905266, Val accuracy: 0.908948\n",
            "Average loss: 0.304483, Train accuracy: 0.907637, Val accuracy: 0.917207\n",
            "Average loss: 0.295410, Train accuracy: 0.912500, Val accuracy: 0.915501\n",
            "Average loss: 0.290052, Train accuracy: 0.913046, Val accuracy: 0.910723\n",
            "Average loss: 0.280360, Train accuracy: 0.916749, Val accuracy: 0.920756\n",
            "Average loss: 0.277947, Train accuracy: 0.916920, Val accuracy: 0.917002\n",
            "11\n",
            "Hyperparams(learning_rate=0.01, anneal_epochs=1, reg=1e-07)\n",
            "Average loss: 0.686615, Train accuracy: 0.781951, Val accuracy: 0.884513\n",
            "Average loss: 0.420562, Train accuracy: 0.872607, Val accuracy: 0.886561\n",
            "Average loss: 0.368050, Train accuracy: 0.888151, Val accuracy: 0.904034\n",
            "Average loss: 0.335467, Train accuracy: 0.899703, Val accuracy: 0.896526\n",
            "Average loss: 0.312054, Train accuracy: 0.906733, Val accuracy: 0.909494\n",
            "Average loss: 0.289163, Train accuracy: 0.912091, Val accuracy: 0.916047\n",
            "Average loss: 0.276737, Train accuracy: 0.916852, Val accuracy: 0.910518\n",
            "Average loss: 0.259490, Train accuracy: 0.921339, Val accuracy: 0.916047\n",
            "Average loss: 0.184719, Train accuracy: 0.943811, Val accuracy: 0.926694\n",
            "Average loss: 0.163109, Train accuracy: 0.949579, Val accuracy: 0.926967\n",
            "12\n",
            "Hyperparams(learning_rate=0.001, anneal_epochs=3, reg=0.0001)\n",
            "Average loss: 0.613788, Train accuracy: 0.810173, Val accuracy: 0.890246\n",
            "Average loss: 0.387024, Train accuracy: 0.883237, Val accuracy: 0.898573\n",
            "Average loss: 0.331311, Train accuracy: 0.898577, Val accuracy: 0.909289\n",
            "Average loss: 0.298057, Train accuracy: 0.910589, Val accuracy: 0.915159\n",
            "Average loss: 0.273027, Train accuracy: 0.917636, Val accuracy: 0.915569\n",
            "Average loss: 0.254104, Train accuracy: 0.923301, Val accuracy: 0.922599\n",
            "Average loss: 0.237998, Train accuracy: 0.928983, Val accuracy: 0.920620\n",
            "Average loss: 0.222611, Train accuracy: 0.932277, Val accuracy: 0.918436\n",
            "Average loss: 0.209122, Train accuracy: 0.936218, Val accuracy: 0.921507\n",
            "Average loss: 0.199640, Train accuracy: 0.939818, Val accuracy: 0.917002\n",
            "13\n",
            "Hyperparams(learning_rate=0.001, anneal_epochs=10, reg=0.0001)\n",
            "Average loss: 0.617482, Train accuracy: 0.810856, Val accuracy: 0.886083\n",
            "Average loss: 0.386895, Train accuracy: 0.881377, Val accuracy: 0.904512\n",
            "Average loss: 0.332118, Train accuracy: 0.898935, Val accuracy: 0.911815\n",
            "Average loss: 0.299488, Train accuracy: 0.911460, Val accuracy: 0.915978\n",
            "Average loss: 0.271639, Train accuracy: 0.918302, Val accuracy: 0.915842\n",
            "Average loss: 0.250988, Train accuracy: 0.924991, Val accuracy: 0.921780\n",
            "Average loss: 0.236161, Train accuracy: 0.928233, Val accuracy: 0.922667\n",
            "Average loss: 0.220081, Train accuracy: 0.933249, Val accuracy: 0.922190\n",
            "Average loss: 0.207918, Train accuracy: 0.937037, Val accuracy: 0.918913\n",
            "Average loss: 0.197974, Train accuracy: 0.939921, Val accuracy: 0.921507\n",
            "14\n",
            "Hyperparams(learning_rate=0.01, anneal_epochs=1, reg=1e-07)\n",
            "Average loss: 0.684362, Train accuracy: 0.780483, Val accuracy: 0.881305\n",
            "Average loss: 0.420240, Train accuracy: 0.872487, Val accuracy: 0.896253\n",
            "Average loss: 0.365606, Train accuracy: 0.889568, Val accuracy: 0.903283\n",
            "Average loss: 0.336621, Train accuracy: 0.899174, Val accuracy: 0.904580\n",
            "Average loss: 0.308160, Train accuracy: 0.906580, Val accuracy: 0.909085\n",
            "Average loss: 0.288232, Train accuracy: 0.912722, Val accuracy: 0.918231\n",
            "Average loss: 0.269185, Train accuracy: 0.918490, Val accuracy: 0.915637\n",
            "Average loss: 0.257810, Train accuracy: 0.922243, Val accuracy: 0.914818\n",
            "Average loss: 0.180210, Train accuracy: 0.945637, Val accuracy: 0.925807\n",
            "Average loss: 0.159076, Train accuracy: 0.951609, Val accuracy: 0.926421\n",
            "15\n",
            "Hyperparams(learning_rate=1.0, anneal_epochs=1, reg=1e-07)\n",
            "Average loss: 2.483157, Train accuracy: 0.152356, Val accuracy: 0.189475\n",
            "Average loss: 2.364906, Train accuracy: 0.155138, Val accuracy: 0.145724\n",
            "Average loss: 2.384353, Train accuracy: 0.154831, Val accuracy: 0.189475\n",
            "Average loss: 2.260350, Train accuracy: 0.178139, Val accuracy: 0.189475\n",
            "Average loss: 2.262675, Train accuracy: 0.177746, Val accuracy: 0.189475\n"
          ],
          "name": "stdout"
        }
      ]
    },
    {
      "cell_type": "code",
      "metadata": {
        "id": "Y6xExdw8JB1l"
      },
      "source": [
        "best_val_accuracy = None\n",
        "best_hyperparams = None\n",
        "best_run = None\n",
        "\n",
        "for hyperparams, run_result in run_record.items():\n",
        "    if best_val_accuracy is None or best_val_accuracy < run_result.final_val_accuracy:\n",
        "        best_val_accuracy = run_result.final_val_accuracy\n",
        "        best_hyperparams = hyperparams\n",
        "        best_run = run_result\n",
        "        \n",
        "print(\"Best validation accuracy: %4.2f, best hyperparams: %s\" % (best_val_accuracy, best_hyperparams))\n",
        "        "
      ],
      "execution_count": null,
      "outputs": []
    },
    {
      "cell_type": "code",
      "metadata": {
        "id": "I9pkjKPmjFA6"
      },
      "source": [
        ""
      ],
      "execution_count": null,
      "outputs": []
    },
    {
      "cell_type": "code",
      "metadata": {
        "colab": {
          "base_uri": "https://localhost:8080/"
        },
        "id": "g9-pGKRTjEd9",
        "outputId": "da7f7763-fbbe-4de1-e86e-4b49522003f9"
      },
      "source": [
        "import random\n",
        "\n",
        "# The key hyperparameters we're goaing to tune are learning speed, annealing rate and regularization\n",
        "# We also encourage you to try different optimizers as well\n",
        "\n",
        "Hyperparams = namedtuple(\"Hyperparams\", ['learning_rate', 'anneal_epochs', 'reg'])\n",
        "RunResult = namedtuple(\"RunResult\", ['model', 'train_history', 'val_history', 'final_val_accuracy'])\n",
        "\n",
        "learning_rates = [1e-2]\n",
        "anneal_coeff = 0.2\n",
        "anneal_epochs = [1] # [1, 5, 10, 15, 20, 50]\n",
        "reg = [1e-7]\n",
        "\n",
        "# batch_size = 32\n",
        "epoch_num = 30\n",
        "\n",
        "# Record all the runs here\n",
        "# Key should be Hyperparams and values should be RunResult\n",
        "run_record = {} \n",
        "\n",
        "# Use grid search or random search and record all runs in run_record dictionnary \n",
        "# Important: perform search in logarithmic space!\n",
        "\n",
        "# TODO: Your code here!\n",
        "n_iter = 1\n",
        "params_grid = [learning_rates, anneal_epochs, reg]\n",
        "\n",
        "for i in range(n_iter):\n",
        "    print(i)\n",
        "    # print([random.choice(params_grid[p]) for p in range(len(params_grid))])\n",
        "    key = Hyperparams(*[random.choice(params_grid[p]) for p in range(len(params_grid)) ])\n",
        "    print(key)\n",
        "    ################################################################\n",
        "    sample_nn_model = nn.Sequential(\n",
        "            # 32x32x3\n",
        "            nn.Conv2d(3, 16, 5, padding=2),\n",
        "            nn.BatchNorm2d(num_features=16),\n",
        "            nn.ReLU(inplace=True),\n",
        "            # 32x32x16\n",
        "            nn.MaxPool2d(2),\n",
        "            # 16x16x16\n",
        "            nn.Conv2d(16, 32, 5),\n",
        "            nn.BatchNorm2d(num_features=32),\n",
        "            nn.ReLU(inplace=True),\n",
        "            # 12x12x32\n",
        "            nn.MaxPool2d(2),   \n",
        "            # 6x6x32 \n",
        "            nn.Conv2d(32, 64, 3),\n",
        "            nn.BatchNorm2d(num_features=64),\n",
        "            nn.ReLU(inplace=True),\n",
        "            # 4x4x64\n",
        "            nn.MaxPool2d(2),\n",
        "            # 2x2x64\n",
        "            Flattener(),\n",
        "            nn.Linear(64*2*2, 128),\n",
        "            nn.BatchNorm1d(num_features=128),\n",
        "            nn.ReLU(inplace=True),\n",
        "            nn.Linear(128, 10),\n",
        "          )\n",
        "\n",
        "    sample_nn_model.type(torch.cuda.FloatTensor)\n",
        "    sample_nn_model.to(device)\n",
        "\n",
        "    loss = nn.CrossEntropyLoss().type(torch.cuda.FloatTensor)\n",
        "    #################################################################\n",
        "\n",
        "    optimizer = optim.Adam(sample_nn_model.parameters(), lr=key[0], weight_decay=key[2]) \n",
        "    # optimizer = optim.SGD(lenet_model.parameters(), lr=key[0] weight_decay=key[2])\n",
        "    loss_history, train_history, val_history = train_model(sample_nn_model, train_aug_loader, val_loader, loss, optimizer, epoch_num, anneal_coeff, key[1])\n",
        "\n",
        "    val = RunResult(*[sample_nn_model, train_history, val_history, val_history[-1]])\n",
        "\n",
        "    run_record[key] = val"
      ],
      "execution_count": 20,
      "outputs": [
        {
          "output_type": "stream",
          "text": [
            "0\n",
            "Hyperparams(learning_rate=0.01, anneal_epochs=1, reg=1e-07)\n",
            "Average loss: 0.687655, Train accuracy: 0.781780, Val accuracy: 0.878097\n",
            "Average loss: 0.420836, Train accuracy: 0.871327, Val accuracy: 0.895843\n",
            "Average loss: 0.368187, Train accuracy: 0.887554, Val accuracy: 0.905331\n",
            "Average loss: 0.334123, Train accuracy: 0.898236, Val accuracy: 0.901713\n",
            "Average loss: 0.309784, Train accuracy: 0.906460, Val accuracy: 0.910245\n",
            "Average loss: 0.288844, Train accuracy: 0.911016, Val accuracy: 0.909221\n",
            "Average loss: 0.272884, Train accuracy: 0.915947, Val accuracy: 0.916456\n",
            "Average loss: 0.256475, Train accuracy: 0.920913, Val accuracy: 0.914818\n",
            "Average loss: 0.241646, Train accuracy: 0.925537, Val accuracy: 0.913999\n",
            "Average loss: 0.173735, Train accuracy: 0.946575, Val accuracy: 0.925329\n",
            "Average loss: 0.149612, Train accuracy: 0.953128, Val accuracy: 0.924306\n",
            "Average loss: 0.138604, Train accuracy: 0.956864, Val accuracy: 0.925875\n",
            "Average loss: 0.119392, Train accuracy: 0.963348, Val accuracy: 0.926353\n",
            "Average loss: 0.113987, Train accuracy: 0.964867, Val accuracy: 0.926558\n",
            "Average loss: 0.107807, Train accuracy: 0.967444, Val accuracy: 0.925602\n",
            "Average loss: 0.107404, Train accuracy: 0.967154, Val accuracy: 0.925261\n",
            "Average loss: 0.108661, Train accuracy: 0.966420, Val accuracy: 0.926831\n",
            "Average loss: 0.106877, Train accuracy: 0.967580, Val accuracy: 0.926558\n",
            "Average loss: 0.108155, Train accuracy: 0.966488, Val accuracy: 0.927445\n",
            "Average loss: 0.109448, Train accuracy: 0.966249, Val accuracy: 0.926285\n",
            "Average loss: 0.105385, Train accuracy: 0.967546, Val accuracy: 0.926899\n",
            "Average loss: 0.107697, Train accuracy: 0.966249, Val accuracy: 0.926353\n",
            "Average loss: 0.107291, Train accuracy: 0.966812, Val accuracy: 0.926899\n",
            "Average loss: 0.106530, Train accuracy: 0.966898, Val accuracy: 0.925875\n",
            "Average loss: 0.107198, Train accuracy: 0.966642, Val accuracy: 0.925875\n",
            "Average loss: 0.107306, Train accuracy: 0.966846, Val accuracy: 0.924920\n",
            "Average loss: 0.108049, Train accuracy: 0.965942, Val accuracy: 0.925193\n",
            "Average loss: 0.107284, Train accuracy: 0.966471, Val accuracy: 0.927923\n",
            "Average loss: 0.108696, Train accuracy: 0.965771, Val accuracy: 0.925807\n",
            "Average loss: 0.108912, Train accuracy: 0.966198, Val accuracy: 0.925807\n"
          ],
          "name": "stdout"
        }
      ]
    },
    {
      "cell_type": "code",
      "metadata": {
        "colab": {
          "base_uri": "https://localhost:8080/"
        },
        "id": "QFkZDH59jDY8",
        "outputId": "064fb3af-754a-42b0-9d20-dc0218ad0086"
      },
      "source": [
        "best_val_accuracy = None\n",
        "best_hyperparams = None\n",
        "best_run = None\n",
        "\n",
        "for hyperparams, run_result in run_record.items():\n",
        "    if best_val_accuracy is None or best_val_accuracy < run_result.final_val_accuracy:\n",
        "        best_val_accuracy = run_result.final_val_accuracy\n",
        "        best_hyperparams = hyperparams\n",
        "        best_run = run_result\n",
        "        \n",
        "print(\"Best validation accuracy: %4.2f, best hyperparams: %s\" % (best_val_accuracy, best_hyperparams))\n",
        "        "
      ],
      "execution_count": 21,
      "outputs": [
        {
          "output_type": "stream",
          "text": [
            "Best validation accuracy: 0.93, best hyperparams: Hyperparams(learning_rate=0.01, anneal_epochs=1, reg=1e-07)\n"
          ],
          "name": "stdout"
        }
      ]
    },
    {
      "cell_type": "markdown",
      "metadata": {
        "id": "LOmsR0uVgtgf"
      },
      "source": [
        "# Свободное упражнение - догоним и перегоним LeNet!\n",
        "\n",
        "Попробуйте найти архитектуру и настройки тренировки, чтобы выступить лучше наших бейзлайнов.\n",
        "\n",
        "Что можно и нужно попробовать:\n",
        "- BatchNormalization (для convolution layers он в PyTorch называется [batchnorm2d](https://pytorch.org/docs/stable/nn.html#batchnorm2d))\n",
        "- Изменить количество слоев и их толщину\n",
        "- Изменять количество эпох тренировки\n",
        "- Попробовать и другие агментации"
      ]
    },
    {
      "cell_type": "code",
      "metadata": {
        "id": "tSVhD747icoc"
      },
      "source": [
        "best_model = None"
      ],
      "execution_count": null,
      "outputs": []
    },
    {
      "cell_type": "markdown",
      "metadata": {
        "id": "ubeKgBcnhx7N"
      },
      "source": [
        "# Финальный аккорд - проверим лучшую модель на test set\n",
        "\n",
        "В качестве разнообразия - напишите код для прогона модели на test set вы.\n",
        "\n",
        "В результате вы должны натренировать модель, которая покажет более **90%** точности на test set.  \n",
        "Как водится, лучший результат в группе получит дополнительные баллы!"
      ]
    },
    {
      "cell_type": "code",
      "metadata": {
        "id": "TpLpi4YAvJjv"
      },
      "source": [
        "test_loader = torch.utils.data.DataLoader(data_test, batch_size=batch_size)"
      ],
      "execution_count": 22,
      "outputs": []
    },
    {
      "cell_type": "code",
      "metadata": {
        "id": "EIqM1kdeh-hd",
        "colab": {
          "base_uri": "https://localhost:8080/"
        },
        "outputId": "ecb95807-d63a-4186-a1a4-d651a6bf44f6"
      },
      "source": [
        "# TODO Write the code to compute accuracy on test set\n",
        "final_test_accuracy , test_loss = compute_accuracy_loss(sample_nn_model, test_loader)\n",
        "print(\"Final test accuracy - \", final_test_accuracy)"
      ],
      "execution_count": 23,
      "outputs": [
        {
          "output_type": "stream",
          "text": [
            "Final test accuracy -  0.9214044253226797\n"
          ],
          "name": "stdout"
        }
      ]
    },
    {
      "cell_type": "code",
      "metadata": {
        "id": "MZrFQHJYvSTd"
      },
      "source": [
        ""
      ],
      "execution_count": null,
      "outputs": []
    }
  ]
}