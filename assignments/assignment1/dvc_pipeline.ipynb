{
 "cells": [
  {
   "cell_type": "markdown",
   "metadata": {},
   "source": [
    "# Загрузка данных"
   ]
  },
  {
   "cell_type": "code",
   "execution_count": 9,
   "metadata": {},
   "outputs": [],
   "source": [
    "# %%bash\n",
    "\n",
    "# dvc add data/data_.csv"
   ]
  },
  {
   "cell_type": "code",
   "execution_count": 10,
   "metadata": {
    "scrolled": true
   },
   "outputs": [
    {
     "name": "stdout",
     "output_type": "stream",
     "text": [
      "100% Add|██████████████████████████████████████████████|1/1 [00:01,  1.00s/file]\n",
      "\n",
      "To track the changes with git, run:\n",
      "\n",
      "\tgit add data/test_32x32.mat.dvc\n",
      "\u001b[0m"
     ]
    }
   ],
   "source": [
    "!dvc add data/test_32x32.mat"
   ]
  },
  {
   "cell_type": "code",
   "execution_count": 11,
   "metadata": {},
   "outputs": [
    {
     "name": "stdout",
     "output_type": "stream",
     "text": [
      "100% Add|██████████████████████████████████████████████|1/1 [00:00,  1.05file/s]\n",
      "\n",
      "To track the changes with git, run:\n",
      "\n",
      "\tgit add data/train_32x32.mat.dvc\n",
      "\u001b[0m"
     ]
    }
   ],
   "source": [
    "!dvc add data/train_32x32.mat"
   ]
  },
  {
   "cell_type": "code",
   "execution_count": 3,
   "metadata": {},
   "outputs": [
    {
     "name": "stdout",
     "output_type": "stream",
     "text": [
      "Running command:                                                        \n",
      "\tpython dvc_src/read_sorce_data.py\n",
      "                                                                        \n",
      "To track the changes with git, run:\n",
      "\n",
      "\tgit add dvc_src/dvc_read_sorce_data.dvc\n",
      "\u001b[0m"
     ]
    }
   ],
   "source": [
    "!dvc run -f dvc_src/dvc_read_sorce_data.dvc \\\n",
    "    -d dvc_src/read_sorce_data.py \\\n",
    "    -d data/train_32x32.mat \\\n",
    "    -d data/test_32x32.mat \\\n",
    "    -o data/train_X.csv \\\n",
    "    -o data/train_y.csv \\\n",
    "    -o data/test_X.csv \\\n",
    "    -o data/test_y.csv \\\n",
    "    python dvc_src/read_sorce_data.py"
   ]
  },
  {
   "cell_type": "code",
   "execution_count": 4,
   "metadata": {},
   "outputs": [
    {
     "name": "stdout",
     "output_type": "stream",
     "text": [
      "md5: d08d94f87996f90bc7e73e4efa4ea6e5\r\n",
      "cmd: python dvc_src/read_sorce_data.py\r\n",
      "wdir: ..\r\n",
      "deps:\r\n",
      "- md5: 0edf0a84cf82a0b2960fcb54dde30dc1\r\n",
      "  path: dvc_src/read_sorce_data.py\r\n",
      "- md5: e26dedcc434d2e4c54c9b2d4a06d8373\r\n",
      "  path: data/train_32x32.mat\r\n",
      "- md5: eb5a983be6a315427106f1b164d9cef3\r\n",
      "  path: data/test_32x32.mat\r\n",
      "outs:\r\n",
      "- md5: 65c56220429b222eedf65593eafe1303\r\n",
      "  path: data/train_X.csv\r\n",
      "  cache: true\r\n",
      "  metric: false\r\n",
      "  persist: false\r\n",
      "- md5: bb1e385bd5f51c0dbc44db42cee43bde\r\n",
      "  path: data/train_y.csv\r\n",
      "  cache: true\r\n",
      "  metric: false\r\n",
      "  persist: false\r\n",
      "- md5: 5f1cd64e928a7e247fdefbda76d686e9\r\n",
      "  path: data/test_X.csv\r\n",
      "  cache: true\r\n",
      "  metric: false\r\n",
      "  persist: false\r\n",
      "- md5: 440f0103b961d38cf91a51ca4d09997c\r\n",
      "  path: data/test_y.csv\r\n",
      "  cache: true\r\n",
      "  metric: false\r\n",
      "  persist: false\r\n"
     ]
    }
   ],
   "source": [
    "! cat dvc_src/dvc_read_sorce_data.dvc"
   ]
  },
  {
   "cell_type": "markdown",
   "metadata": {},
   "source": [
    "# Обучение модили"
   ]
  },
  {
   "cell_type": "code",
   "execution_count": 14,
   "metadata": {},
   "outputs": [
    {
     "name": "stdout",
     "output_type": "stream",
     "text": [
      "Running command:                                                        \n",
      "\tpython dvc_src/train.py\n",
      "                                                                        \n",
      "To track the changes with git, run:\n",
      "\n",
      "\tgit add dvc_src/dvc_train.dvc model/.gitignore\n",
      "\u001b[0m"
     ]
    }
   ],
   "source": [
    "!dvc run -f dvc_src/dvc_train.dvc \\\n",
    "    -d dvc_src/train.py \\\n",
    "    -d data/train_X.csv \\\n",
    "    -d data/train_y.csv \\\n",
    "    -o model/dvc_knn_model \\\n",
    "    python dvc_src/train.py"
   ]
  },
  {
   "cell_type": "markdown",
   "metadata": {},
   "source": [
    "# Тест"
   ]
  },
  {
   "cell_type": "code",
   "execution_count": 17,
   "metadata": {},
   "outputs": [
    {
     "name": "stdout",
     "output_type": "stream",
     "text": [
      "Running command:                                                        \n",
      "\tpython dvc_src/test.py\n",
      "Accuracy: 0.25\n",
      "                                                                        \n",
      "To track the changes with git, run:\n",
      "\n",
      "\tgit add data/.gitignore dvc_src/dvc_test.dvc\n",
      "\u001b[0m"
     ]
    }
   ],
   "source": [
    "!dvc run -f dvc_src/dvc_test.dvc \\\n",
    "    -d dvc_src/test.py \\\n",
    "    -d data/test_X.csv \\\n",
    "    -d data/test_y.csv \\\n",
    "    -m data/accuracy.txt \\\n",
    "    python dvc_src/test.py"
   ]
  },
  {
   "cell_type": "markdown",
   "metadata": {},
   "source": [
    "# Метрики"
   ]
  },
  {
   "cell_type": "code",
   "execution_count": 18,
   "metadata": {},
   "outputs": [
    {
     "name": "stdout",
     "output_type": "stream",
     "text": [
      "\u001b[0m                                                                    \tdata/accuracy.txt: {\"Accuracy\": 0.25}\n",
      "\u001b[0m"
     ]
    }
   ],
   "source": [
    "!dvc metrics show"
   ]
  },
  {
   "cell_type": "markdown",
   "metadata": {},
   "source": [
    "# Воспроизведение в одну строку"
   ]
  },
  {
   "cell_type": "code",
   "execution_count": 19,
   "metadata": {},
   "outputs": [
    {
     "name": "stdout",
     "output_type": "stream",
     "text": [
      "\u001b[33mWARNING\u001b[39m: Stage 'dvc_src/dvc_read_sorce_data.dvc' changed.     \n",
      "Running command:\n",
      "\tpython dvc_src/read_sorce_data.py\n",
      "Output 'data/train_X.csv' didn't change. Skipping saving.               \n",
      "Output 'data/train_y.csv' didn't change. Skipping saving.\n",
      "Output 'data/test_X.csv' didn't change. Skipping saving.\n",
      "Output 'data/test_y.csv' didn't change. Skipping saving.\n",
      "\u001b[33mWARNING\u001b[39m: Stage 'dvc_src/dvc_test.dvc' changed.\n",
      "Running command:\n",
      "\tpython dvc_src/test.py\n",
      "Accuracy: 0.25\n",
      "Output 'data/accuracy.txt' didn't change. Skipping saving.              \n",
      "\n",
      "To track the changes with git, run:\n",
      "\n",
      "\tgit add dvc_src/dvc_test.dvc dvc_src/dvc_read_sorce_data.dvc\n",
      "\u001b[0m"
     ]
    }
   ],
   "source": [
    "! dvc repro dvc_src/dvc_test.dvc"
   ]
  },
  {
   "cell_type": "code",
   "execution_count": 20,
   "metadata": {},
   "outputs": [
    {
     "name": "stdout",
     "output_type": "stream",
     "text": [
      "Data and pipelines are up to date.                                      \n",
      "\u001b[0m"
     ]
    }
   ],
   "source": [
    "! dvc repro dvc_src/dvc_test.dvc"
   ]
  },
  {
   "cell_type": "code",
   "execution_count": 21,
   "metadata": {},
   "outputs": [
    {
     "name": "stdout",
     "output_type": "stream",
     "text": [
      "Verifying data sources in 'data/train_32x32.mat.dvc'                    \n",
      "Output 'data/train_32x32.mat' didn't change. Skipping saving.\n",
      "Verifying data sources in 'data/test_32x32.mat.dvc'\n",
      "Output 'data/test_32x32.mat' didn't change. Skipping saving.\n",
      "Running command:\n",
      "\tpython dvc_src/read_sorce_data.py\n",
      "Output 'data/train_X.csv' didn't change. Skipping saving.               \n",
      "Output 'data/train_y.csv' didn't change. Skipping saving.\n",
      "Output 'data/test_X.csv' didn't change. Skipping saving.\n",
      "Output 'data/test_y.csv' didn't change. Skipping saving.\n",
      "Running command:\n",
      "\tpython dvc_src/test.py\n",
      "Accuracy: 0.25\n",
      "Output 'data/accuracy.txt' didn't change. Skipping saving.              \n",
      "\n",
      "To track the changes with git, run:\n",
      "\n",
      "\tgit add dvc_src/dvc_read_sorce_data.dvc data/train_32x32.mat.dvc data/test_32x32.mat.dvc dvc_src/dvc_test.dvc\n",
      "\u001b[0m"
     ]
    }
   ],
   "source": [
    "! dvc repro -f dvc_src/dvc_test.dvc"
   ]
  },
  {
   "cell_type": "code",
   "execution_count": null,
   "metadata": {},
   "outputs": [],
   "source": []
  },
  {
   "cell_type": "code",
   "execution_count": null,
   "metadata": {},
   "outputs": [],
   "source": []
  },
  {
   "cell_type": "markdown",
   "metadata": {},
   "source": [
    "# Добавляем в git .dvc файлы чтобы он отслеживал изменеиния"
   ]
  },
  {
   "cell_type": "code",
   "execution_count": 23,
   "metadata": {},
   "outputs": [],
   "source": [
    "!git add data/test_32x32.mat.dvc"
   ]
  },
  {
   "cell_type": "code",
   "execution_count": 24,
   "metadata": {},
   "outputs": [],
   "source": [
    "!git add data/train_32x32.mat.dvc"
   ]
  },
  {
   "cell_type": "code",
   "execution_count": 25,
   "metadata": {},
   "outputs": [],
   "source": [
    "!git add dvc_src/dvc_read_sorce_data.dvc"
   ]
  },
  {
   "cell_type": "code",
   "execution_count": 26,
   "metadata": {},
   "outputs": [],
   "source": [
    "!git add dvc_src/dvc_train.dvc model/.gitignore"
   ]
  },
  {
   "cell_type": "code",
   "execution_count": 27,
   "metadata": {},
   "outputs": [],
   "source": [
    "!git add data/.gitignore dvc_src/dvc_test.dvc"
   ]
  },
  {
   "cell_type": "code",
   "execution_count": null,
   "metadata": {},
   "outputs": [],
   "source": []
  },
  {
   "cell_type": "markdown",
   "metadata": {},
   "source": [
    "# Настраиваем \"удаленное\" Хранилище"
   ]
  },
  {
   "cell_type": "code",
   "execution_count": 28,
   "metadata": {},
   "outputs": [
    {
     "name": "stdout",
     "output_type": "stream",
     "text": [
      "Setting 'local' as a default remote.\n",
      "\u001b[0m"
     ]
    }
   ],
   "source": [
    "!dvc remote add -d local /Users/a17409438/Documents/dlcourse_ai/assignments/assignment1/dvc_remote_data_folder"
   ]
  },
  {
   "cell_type": "code",
   "execution_count": 32,
   "metadata": {},
   "outputs": [],
   "source": [
    "!git add ../../.dvc/config"
   ]
  },
  {
   "cell_type": "code",
   "execution_count": 33,
   "metadata": {},
   "outputs": [
    {
     "name": "stdout",
     "output_type": "stream",
     "text": [
      "[ass1_p1_dvc 549e27b] Add remote data folder\r\n",
      " 8 files changed, 89 insertions(+)\r\n",
      " create mode 100644 assignments/assignment1/data/.gitignore\r\n",
      " create mode 100644 assignments/assignment1/data/test_32x32.mat.dvc\r\n",
      " create mode 100644 assignments/assignment1/data/train_32x32.mat.dvc\r\n",
      " create mode 100644 assignments/assignment1/dvc_src/dvc_read_sorce_data.dvc\r\n",
      " create mode 100644 assignments/assignment1/dvc_src/dvc_test.dvc\r\n",
      " create mode 100644 assignments/assignment1/dvc_src/dvc_train.dvc\r\n",
      " create mode 100644 assignments/assignment1/model/.gitignore\r\n"
     ]
    }
   ],
   "source": [
    "! git commit -m \"Add remote data folder\""
   ]
  },
  {
   "cell_type": "code",
   "execution_count": 35,
   "metadata": {},
   "outputs": [
    {
     "name": "stdout",
     "output_type": "stream",
     "text": [
      "\u001b[0m                                                                            "
     ]
    }
   ],
   "source": [
    "!dvc push"
   ]
  },
  {
   "cell_type": "code",
   "execution_count": 36,
   "metadata": {},
   "outputs": [
    {
     "name": "stdout",
     "output_type": "stream",
     "text": [
      "No changes.                                                                     \n",
      "Everything is up to date.\n",
      "\u001b[0m"
     ]
    }
   ],
   "source": [
    "! dvc pull"
   ]
  },
  {
   "cell_type": "code",
   "execution_count": null,
   "metadata": {},
   "outputs": [],
   "source": []
  },
  {
   "cell_type": "code",
   "execution_count": null,
   "metadata": {},
   "outputs": [],
   "source": []
  }
 ],
 "metadata": {
  "kernelspec": {
   "display_name": "Python 3",
   "language": "python",
   "name": "python3"
  },
  "language_info": {
   "codemirror_mode": {
    "name": "ipython",
    "version": 3
   },
   "file_extension": ".py",
   "mimetype": "text/x-python",
   "name": "python",
   "nbconvert_exporter": "python",
   "pygments_lexer": "ipython3",
   "version": "3.7.4"
  }
 },
 "nbformat": 4,
 "nbformat_minor": 4
}
