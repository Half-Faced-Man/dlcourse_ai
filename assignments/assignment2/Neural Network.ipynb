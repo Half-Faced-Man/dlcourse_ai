{
 "cells": [
  {
   "cell_type": "markdown",
   "metadata": {},
   "source": [
    "# Задание 2.1 - Нейронные сети\n",
    "\n",
    "В этом задании вы реализуете и натренируете настоящую нейроную сеть своими руками!\n",
    "\n",
    "В некотором смысле это будет расширением прошлого задания - нам нужно просто составить несколько линейных классификаторов вместе!\n",
    "\n",
    "<img src=\"https://i.redd.it/n9fgba8b0qr01.png\" alt=\"Stack_more_layers\" width=\"400px\"/>"
   ]
  },
  {
   "cell_type": "code",
   "execution_count": 215,
   "metadata": {},
   "outputs": [
    {
     "name": "stdout",
     "output_type": "stream",
     "text": [
      "The autoreload extension is already loaded. To reload it, use:\n",
      "  %reload_ext autoreload\n"
     ]
    }
   ],
   "source": [
    "import numpy as np\n",
    "import matplotlib.pyplot as plt\n",
    "\n",
    "%matplotlib inline\n",
    "\n",
    "%load_ext autoreload\n",
    "%autoreload 2"
   ]
  },
  {
   "cell_type": "code",
   "execution_count": 216,
   "metadata": {},
   "outputs": [],
   "source": [
    "from dataset import load_svhn, random_split_train_val\n",
    "from gradient_check import check_layer_gradient, check_layer_param_gradient, check_model_gradient\n",
    "from layers import FullyConnectedLayer, ReLULayer\n",
    "from model import TwoLayerNet\n",
    "from trainer import Trainer, Dataset\n",
    "from optim import SGD, MomentumSGD\n",
    "from metrics import multiclass_accuracy"
   ]
  },
  {
   "cell_type": "markdown",
   "metadata": {},
   "source": [
    "# Загружаем данные\n",
    "\n",
    "И разделяем их на training и validation."
   ]
  },
  {
   "cell_type": "code",
   "execution_count": 217,
   "metadata": {},
   "outputs": [],
   "source": [
    "def prepare_for_neural_network(train_X, test_X):\n",
    "    train_flat = train_X.reshape(train_X.shape[0], -1).astype(np.float) / 255.0\n",
    "    test_flat = test_X.reshape(test_X.shape[0], -1).astype(np.float) / 255.0\n",
    "    \n",
    "    # Subtract mean\n",
    "    mean_image = np.mean(train_flat, axis = 0)\n",
    "    train_flat -= mean_image\n",
    "    test_flat -= mean_image\n",
    "    \n",
    "    return train_flat, test_flat\n",
    "    \n",
    "train_X, train_y, test_X, test_y = load_svhn(\"data\", max_train=10000, max_test=1000)    \n",
    "train_X, test_X = prepare_for_neural_network(train_X, test_X)\n",
    "# Split train into train and val\n",
    "train_X, train_y, val_X, val_y = random_split_train_val(train_X, train_y, num_val = 1000)"
   ]
  },
  {
   "cell_type": "markdown",
   "metadata": {},
   "source": [
    "# Как всегда, начинаем с кирпичиков\n",
    "\n",
    "Мы будем реализовывать необходимые нам слои по очереди. Каждый слой должен реализовать:\n",
    "- прямой проход (forward pass), который генерирует выход слоя по входу и запоминает необходимые данные\n",
    "- обратный проход (backward pass), который получает градиент по выходу слоя и вычисляет градиент по входу и по параметрам\n",
    "\n",
    "Начнем с ReLU, у которого параметров нет."
   ]
  },
  {
   "cell_type": "code",
   "execution_count": 218,
   "metadata": {
    "scrolled": false
   },
   "outputs": [
    {
     "name": "stdout",
     "output_type": "stream",
     "text": [
      "Gradient check passed!\n"
     ]
    }
   ],
   "source": [
    "# TODO: Implement ReLULayer layer in layers.py\n",
    "# Note: you'll need to copy implementation of the gradient_check function from the previous assignment\n",
    "\n",
    "X = np.array([[1,-2,3],\n",
    "              [-1, 2, 0.1]\n",
    "              ])\n",
    "\n",
    "assert check_layer_gradient(ReLULayer(), X)"
   ]
  },
  {
   "cell_type": "markdown",
   "metadata": {},
   "source": [
    "А теперь реализуем полносвязный слой (fully connected layer), у которого будет два массива параметров: W (weights) и B (bias).\n",
    "\n",
    "Все параметры наши слои будут использовать для параметров специальный класс `Param`, в котором будут храниться значения параметров и градиенты этих параметров, вычисляемые во время обратного прохода.\n",
    "\n",
    "Это даст возможность аккумулировать (суммировать) градиенты из разных частей функции потерь, например, из cross-entropy loss и regularization loss."
   ]
  },
  {
   "cell_type": "code",
   "execution_count": 219,
   "metadata": {},
   "outputs": [
    {
     "name": "stdout",
     "output_type": "stream",
     "text": [
      "Gradient check passed!\n",
      "Gradient check passed!\n",
      "Gradient check passed!\n"
     ]
    }
   ],
   "source": [
    "# TODO: Implement FullyConnected layer forward and backward methods\n",
    "assert check_layer_gradient(FullyConnectedLayer(3, 4), X)\n",
    "# TODO: Implement storing gradients for W and B\n",
    "assert check_layer_param_gradient(FullyConnectedLayer(3, 4), X, 'W')\n",
    "assert check_layer_param_gradient(FullyConnectedLayer(3, 4), X, 'B')"
   ]
  },
  {
   "cell_type": "markdown",
   "metadata": {},
   "source": [
    "## Создаем нейронную сеть\n",
    "\n",
    "Теперь мы реализуем простейшую нейронную сеть с двумя полносвязным слоями и нелинейностью ReLU. Реализуйте функцию `compute_loss_and_gradients`, она должна запустить прямой и обратный проход через оба слоя для вычисления градиентов.\n",
    "\n",
    "Не забудьте реализовать очистку градиентов в начале функции."
   ]
  },
  {
   "cell_type": "code",
   "execution_count": 220,
   "metadata": {},
   "outputs": [
    {
     "name": "stdout",
     "output_type": "stream",
     "text": [
      "Checking gradient for 0_W\n",
      "Gradient check passed!\n",
      "Checking gradient for 0_B\n",
      "Gradient check passed!\n",
      "Checking gradient for 2_W\n",
      "Gradient check passed!\n",
      "Checking gradient for 2_B\n",
      "Gradient check passed!\n"
     ]
    },
    {
     "data": {
      "text/plain": [
       "True"
      ]
     },
     "execution_count": 220,
     "metadata": {},
     "output_type": "execute_result"
    }
   ],
   "source": [
    "# TODO: In model.py, implement compute_loss_and_gradients function\n",
    "model = TwoLayerNet(n_input = train_X.shape[1], n_output = 10, hidden_layer_size = 3, reg = 0)\n",
    "loss = model.compute_loss_and_gradients(train_X[:2], train_y[:2])\n",
    "\n",
    "# TODO Now implement backward pass and aggregate all of the params\n",
    "check_model_gradient(model, train_X[:2], train_y[:2])"
   ]
  },
  {
   "cell_type": "markdown",
   "metadata": {},
   "source": [
    "Теперь добавьте к модели регуляризацию - она должна прибавляться к loss и делать свой вклад в градиенты."
   ]
  },
  {
   "cell_type": "code",
   "execution_count": 221,
   "metadata": {},
   "outputs": [
    {
     "name": "stdout",
     "output_type": "stream",
     "text": [
      "Checking gradient for 0_W\n",
      "Gradient check passed!\n",
      "Checking gradient for 0_B\n",
      "Gradient check passed!\n",
      "Checking gradient for 2_W\n",
      "Gradient check passed!\n",
      "Checking gradient for 2_B\n",
      "Gradient check passed!\n"
     ]
    },
    {
     "data": {
      "text/plain": [
       "True"
      ]
     },
     "execution_count": 221,
     "metadata": {},
     "output_type": "execute_result"
    }
   ],
   "source": [
    "# TODO Now implement l2 regularization in the forward and backward pass\n",
    "model_with_reg = TwoLayerNet(n_input = train_X.shape[1], n_output = 10, hidden_layer_size = 3, reg = 1e1)\n",
    "loss_with_reg = model_with_reg.compute_loss_and_gradients(train_X[:2], train_y[:2])\n",
    "assert loss_with_reg > loss and not np.isclose(loss_with_reg, loss), \\\n",
    "    \"Loss with regularization (%2.4f) should be higher than without it (%2.4f)!\" % (loss, loss_with_reg)\n",
    "\n",
    "check_model_gradient(model_with_reg, train_X[:2], train_y[:2])"
   ]
  },
  {
   "cell_type": "markdown",
   "metadata": {},
   "source": [
    "Также реализуем функцию предсказания (вычисления значения) модели на новых данных.\n",
    "\n",
    "Какое значение точности мы ожидаем увидеть до начала тренировки?"
   ]
  },
  {
   "cell_type": "code",
   "execution_count": 222,
   "metadata": {},
   "outputs": [
    {
     "data": {
      "text/plain": [
       "0.1"
      ]
     },
     "execution_count": 222,
     "metadata": {},
     "output_type": "execute_result"
    }
   ],
   "source": [
    "# Finally, implement predict function!\n",
    "\n",
    "# TODO: Implement predict function\n",
    "# What would be the value we expect?\n",
    "multiclass_accuracy(model_with_reg.predict(train_X[:30]), train_y[:30]) "
   ]
  },
  {
   "cell_type": "markdown",
   "metadata": {},
   "source": [
    "# Допишем код для процесса тренировки\n",
    "\n",
    "Если все реализовано корректно, значение функции ошибки должно уменьшаться с каждой эпохой, пусть и медленно. Не беспокойтесь пока про validation accuracy."
   ]
  },
  {
   "cell_type": "code",
   "execution_count": 245,
   "metadata": {},
   "outputs": [
    {
     "name": "stdout",
     "output_type": "stream",
     "text": [
      "Loss: 38.444035, Train accuracy: 0.349222, val accuracy: 0.342000\n",
      "Loss: 30.208532, Train accuracy: 0.547889, val accuracy: 0.527000\n",
      "Loss: 25.984683, Train accuracy: 0.622556, val accuracy: 0.608000\n",
      "Loss: 22.586688, Train accuracy: 0.654444, val accuracy: 0.621000\n",
      "Loss: 20.828449, Train accuracy: 0.705000, val accuracy: 0.674000\n",
      "Loss: 29.081453, Train accuracy: 0.690778, val accuracy: 0.666000\n",
      "Loss: 11.820149, Train accuracy: 0.731333, val accuracy: 0.666000\n",
      "Loss: 10.168386, Train accuracy: 0.726111, val accuracy: 0.661000\n",
      "Loss: 9.184969, Train accuracy: 0.744222, val accuracy: 0.667000\n",
      "Loss: 4.667126, Train accuracy: 0.781444, val accuracy: 0.693000\n",
      "Loss: 23.490488, Train accuracy: 0.773111, val accuracy: 0.696000\n",
      "Loss: 12.687362, Train accuracy: 0.798889, val accuracy: 0.712000\n",
      "Loss: 9.343138, Train accuracy: 0.792778, val accuracy: 0.699000\n",
      "Loss: 8.946653, Train accuracy: 0.829222, val accuracy: 0.716000\n",
      "Loss: 11.246868, Train accuracy: 0.818444, val accuracy: 0.719000\n",
      "Loss: 15.422804, Train accuracy: 0.840111, val accuracy: 0.721000\n",
      "Loss: 23.421458, Train accuracy: 0.827222, val accuracy: 0.721000\n",
      "Loss: 8.560820, Train accuracy: 0.817000, val accuracy: 0.695000\n",
      "Loss: 16.203790, Train accuracy: 0.839111, val accuracy: 0.704000\n",
      "Loss: 4.319778, Train accuracy: 0.853778, val accuracy: 0.716000\n"
     ]
    }
   ],
   "source": [
    "model = TwoLayerNet(n_input = train_X.shape[1], n_output = 10, hidden_layer_size = 100, reg =0.001) # 1e1)\n",
    "dataset = Dataset(train_X, train_y, val_X, val_y)\n",
    "trainer = Trainer(model, dataset, SGD(), learning_rate = 1e-2)\n",
    "\n",
    "# TODO Implement missing pieces in Trainer.fit function\n",
    "# You should expect loss to go down every epoch, even if it's slow\n",
    "loss_history, train_history, val_history = trainer.fit()"
   ]
  },
  {
   "cell_type": "code",
   "execution_count": 246,
   "metadata": {},
   "outputs": [
    {
     "data": {
      "text/plain": [
       "[<matplotlib.lines.Line2D at 0x11e9d1e50>]"
      ]
     },
     "execution_count": 246,
     "metadata": {},
     "output_type": "execute_result"
    },
    {
     "data": {
      "image/png": "[encoded data removed]",
      "text/plain": [
       "<Figure size 432x288 with 1 Axes>"
      ]
     },
     "metadata": {
      "needs_background": "light"
     },
     "output_type": "display_data"
    }
   ],
   "source": [
    "plt.plot(train_history)\n",
    "plt.plot(val_history)"
   ]
  },
  {
   "cell_type": "markdown",
   "metadata": {},
   "source": [
    "# Улучшаем процесс тренировки\n",
    "\n",
    "Мы реализуем несколько ключевых оптимизаций, необходимых для тренировки современных нейросетей."
   ]
  },
  {
   "cell_type": "markdown",
   "metadata": {},
   "source": [
    "## Уменьшение скорости обучения (learning rate decay)\n",
    "\n",
    "Одна из необходимых оптимизаций во время тренировки нейронных сетей - постепенное уменьшение скорости обучения по мере тренировки.\n",
    "\n",
    "Один из стандартных методов - уменьшение скорости обучения (learning rate) каждые N эпох на коэффициент d (часто называемый decay). Значения N и d, как всегда, являются гиперпараметрами и должны подбираться на основе эффективности на проверочных данных (validation data). \n",
    "\n",
    "В нашем случае N будет равным 1."
   ]
  },
  {
   "cell_type": "code",
   "execution_count": 248,
   "metadata": {},
   "outputs": [
    {
     "name": "stdout",
     "output_type": "stream",
     "text": [
      "Loss: 36.879578, Train accuracy: 0.366667, val accuracy: 0.359000\n",
      "Loss: 26.713725, Train accuracy: 0.564667, val accuracy: 0.538000\n",
      "Loss: 22.124914, Train accuracy: 0.611111, val accuracy: 0.601000\n",
      "Loss: 15.014181, Train accuracy: 0.668778, val accuracy: 0.647000\n",
      "Loss: 20.625983, Train accuracy: 0.683778, val accuracy: 0.654000\n",
      "Loss: 14.956174, Train accuracy: 0.723889, val accuracy: 0.682000\n",
      "Loss: 17.804577, Train accuracy: 0.726111, val accuracy: 0.678000\n",
      "Loss: 16.709146, Train accuracy: 0.747111, val accuracy: 0.685000\n",
      "Loss: 15.136138, Train accuracy: 0.774889, val accuracy: 0.697000\n",
      "Loss: 10.408046, Train accuracy: 0.774333, val accuracy: 0.690000\n",
      "Loss: 10.970575, Train accuracy: 0.808333, val accuracy: 0.703000\n",
      "Loss: 26.345781, Train accuracy: 0.779667, val accuracy: 0.681000\n",
      "Loss: 6.205351, Train accuracy: 0.804667, val accuracy: 0.708000\n",
      "Loss: 19.609334, Train accuracy: 0.794667, val accuracy: 0.707000\n",
      "Loss: 9.559350, Train accuracy: 0.832778, val accuracy: 0.732000\n",
      "Loss: 8.024385, Train accuracy: 0.848667, val accuracy: 0.722000\n",
      "Loss: 19.067514, Train accuracy: 0.827111, val accuracy: 0.700000\n",
      "Loss: 10.785543, Train accuracy: 0.862444, val accuracy: 0.745000\n",
      "Loss: 12.290693, Train accuracy: 0.870333, val accuracy: 0.734000\n",
      "Loss: 10.716639, Train accuracy: 0.839444, val accuracy: 0.711000\n"
     ]
    }
   ],
   "source": [
    "# TODO Implement learning rate decay inside Trainer.fit method\n",
    "# Decay should happen once per epoch\n",
    "\n",
    "model = TwoLayerNet(n_input = train_X.shape[1], n_output = 10, hidden_layer_size = 100, reg = 0.001) # 1e-1)\n",
    "dataset = Dataset(train_X, train_y, val_X, val_y)\n",
    "trainer = Trainer(model, dataset, SGD(), learning_rate_decay=0.99)\n",
    "\n",
    "initial_learning_rate = trainer.learning_rate\n",
    "loss_history, train_history, val_history = trainer.fit()\n",
    "\n",
    "assert trainer.learning_rate < initial_learning_rate, \"Learning rate should've been reduced\"\n",
    "assert trainer.learning_rate > 0.5*initial_learning_rate, \"Learning rate shouldn'tve been reduced that much!\""
   ]
  },
  {
   "cell_type": "markdown",
   "metadata": {},
   "source": [
    "# Накопление импульса (Momentum SGD)\n",
    "\n",
    "Другой большой класс оптимизаций - использование более эффективных методов градиентного спуска. Мы реализуем один из них - накопление импульса (Momentum SGD).\n",
    "\n",
    "Этот метод хранит скорость движения, использует градиент для ее изменения на каждом шаге, и изменяет веса пропорционально значению скорости.\n",
    "(Физическая аналогия: Вместо скорости градиенты теперь будут задавать ускорение, но будет присутствовать сила трения.)\n",
    "\n",
    "```\n",
    "velocity = momentum * velocity - learning_rate * gradient \n",
    "w = w + velocity\n",
    "```\n",
    "\n",
    "`momentum` здесь коэффициент затухания, который тоже является гиперпараметром (к счастью, для него часто есть хорошее значение по умолчанию, типичный диапазон -- 0.8-0.99).\n",
    "\n",
    "Несколько полезных ссылок, где метод разбирается более подробно:  \n",
    "http://cs231n.github.io/neural-networks-3/#sgd  \n",
    "https://distill.pub/2017/momentum/"
   ]
  },
  {
   "cell_type": "code",
   "execution_count": 249,
   "metadata": {},
   "outputs": [
    {
     "name": "stdout",
     "output_type": "stream",
     "text": [
      "Loss: 43.790244, Train accuracy: 0.196667, val accuracy: 0.206000\n",
      "Loss: 43.281486, Train accuracy: 0.196667, val accuracy: 0.206000\n",
      "Loss: 43.109122, Train accuracy: 0.196667, val accuracy: 0.206000\n",
      "Loss: 42.407352, Train accuracy: 0.196667, val accuracy: 0.206000\n",
      "Loss: 44.410978, Train accuracy: 0.221111, val accuracy: 0.231000\n",
      "Loss: 37.225088, Train accuracy: 0.261333, val accuracy: 0.261000\n",
      "Loss: 37.689115, Train accuracy: 0.273222, val accuracy: 0.270000\n",
      "Loss: 40.154990, Train accuracy: 0.318667, val accuracy: 0.324000\n",
      "Loss: 39.945739, Train accuracy: 0.383667, val accuracy: 0.367000\n",
      "Loss: 29.950591, Train accuracy: 0.429333, val accuracy: 0.424000\n",
      "Loss: 33.510330, Train accuracy: 0.471333, val accuracy: 0.455000\n",
      "Loss: 38.895270, Train accuracy: 0.526333, val accuracy: 0.522000\n",
      "Loss: 29.543665, Train accuracy: 0.563444, val accuracy: 0.548000\n",
      "Loss: 27.222140, Train accuracy: 0.587667, val accuracy: 0.569000\n",
      "Loss: 34.525315, Train accuracy: 0.612000, val accuracy: 0.591000\n",
      "Loss: 17.452263, Train accuracy: 0.623000, val accuracy: 0.606000\n",
      "Loss: 30.874596, Train accuracy: 0.647889, val accuracy: 0.627000\n",
      "Loss: 20.216624, Train accuracy: 0.664111, val accuracy: 0.655000\n",
      "Loss: 13.756465, Train accuracy: 0.675222, val accuracy: 0.660000\n",
      "Loss: 24.231805, Train accuracy: 0.685333, val accuracy: 0.666000\n"
     ]
    }
   ],
   "source": [
    "# TODO: Implement MomentumSGD.update function in optim.py\n",
    "\n",
    "model = TwoLayerNet(n_input = train_X.shape[1], n_output = 10, hidden_layer_size = 100, reg =0.001) # 1e-1)\n",
    "dataset = Dataset(train_X, train_y, val_X, val_y)\n",
    "trainer = Trainer(model, dataset, MomentumSGD(), learning_rate=1e-4, learning_rate_decay=0.99)\n",
    "\n",
    "# You should see even better results than before!\n",
    "loss_history, train_history, val_history = trainer.fit()"
   ]
  },
  {
   "cell_type": "markdown",
   "metadata": {},
   "source": [
    "# Ну что, давайте уже тренировать сеть!"
   ]
  },
  {
   "cell_type": "markdown",
   "metadata": {},
   "source": [
    "## Последний тест - переобучимся (overfit) на маленьком наборе данных\n",
    "\n",
    "Хороший способ проверить, все ли реализовано корректно - переобучить сеть на маленьком наборе данных.  \n",
    "Наша модель обладает достаточной мощностью, чтобы приблизить маленький набор данных идеально, поэтому мы ожидаем, что на нем мы быстро дойдем до 100% точности на тренировочном наборе. \n",
    "\n",
    "Если этого не происходит, то где-то была допущена ошибка!"
   ]
  },
  {
   "cell_type": "code",
   "execution_count": 273,
   "metadata": {},
   "outputs": [],
   "source": [
    "# выше менял reg"
   ]
  },
  {
   "cell_type": "code",
   "execution_count": 274,
   "metadata": {},
   "outputs": [
    {
     "name": "stdout",
     "output_type": "stream",
     "text": [
      "Loss: 11.545063, Train accuracy: 0.200000, val accuracy: 0.066667\n",
      "Loss: 11.529624, Train accuracy: 0.200000, val accuracy: 0.066667\n",
      "Loss: 11.464732, Train accuracy: 0.266667, val accuracy: 0.066667\n",
      "Loss: 11.385396, Train accuracy: 0.333333, val accuracy: 0.066667\n",
      "Loss: 11.439848, Train accuracy: 0.333333, val accuracy: 0.066667\n",
      "Loss: 11.255600, Train accuracy: 0.266667, val accuracy: 0.000000\n",
      "Loss: 11.148345, Train accuracy: 0.266667, val accuracy: 0.000000\n",
      "Loss: 11.355793, Train accuracy: 0.266667, val accuracy: 0.000000\n",
      "Loss: 11.507920, Train accuracy: 0.266667, val accuracy: 0.000000\n",
      "Loss: 11.499652, Train accuracy: 0.266667, val accuracy: 0.000000\n",
      "Loss: 10.918439, Train accuracy: 0.266667, val accuracy: 0.000000\n",
      "Loss: 10.864322, Train accuracy: 0.266667, val accuracy: 0.000000\n",
      "Loss: 11.098542, Train accuracy: 0.266667, val accuracy: 0.000000\n",
      "Loss: 10.896873, Train accuracy: 0.266667, val accuracy: 0.000000\n",
      "Loss: 9.981914, Train accuracy: 0.400000, val accuracy: 0.000000\n",
      "Loss: 11.255657, Train accuracy: 0.400000, val accuracy: 0.000000\n",
      "Loss: 10.950414, Train accuracy: 0.400000, val accuracy: 0.000000\n",
      "Loss: 7.733791, Train accuracy: 0.400000, val accuracy: 0.000000\n",
      "Loss: 8.260660, Train accuracy: 0.400000, val accuracy: 0.000000\n",
      "Loss: 10.510589, Train accuracy: 0.400000, val accuracy: 0.000000\n",
      "Loss: 9.777236, Train accuracy: 0.400000, val accuracy: 0.000000\n",
      "Loss: 9.279668, Train accuracy: 0.400000, val accuracy: 0.000000\n",
      "Loss: 8.066723, Train accuracy: 0.333333, val accuracy: 0.000000\n",
      "Loss: 7.442575, Train accuracy: 0.333333, val accuracy: 0.000000\n",
      "Loss: 10.568331, Train accuracy: 0.400000, val accuracy: 0.000000\n",
      "Loss: 7.022922, Train accuracy: 0.400000, val accuracy: 0.000000\n",
      "Loss: 6.973937, Train accuracy: 0.400000, val accuracy: 0.000000\n",
      "Loss: 8.250441, Train accuracy: 0.400000, val accuracy: 0.000000\n",
      "Loss: 7.922138, Train accuracy: 0.400000, val accuracy: 0.000000\n",
      "Loss: 7.372919, Train accuracy: 0.400000, val accuracy: 0.000000\n",
      "Loss: 9.846163, Train accuracy: 0.466667, val accuracy: 0.000000\n",
      "Loss: 8.652197, Train accuracy: 0.466667, val accuracy: 0.000000\n",
      "Loss: 6.834698, Train accuracy: 0.400000, val accuracy: 0.000000\n",
      "Loss: 8.442218, Train accuracy: 0.466667, val accuracy: 0.000000\n",
      "Loss: 6.575018, Train accuracy: 0.466667, val accuracy: 0.000000\n",
      "Loss: 6.654534, Train accuracy: 0.466667, val accuracy: 0.066667\n",
      "Loss: 7.421791, Train accuracy: 0.466667, val accuracy: 0.000000\n",
      "Loss: 5.323798, Train accuracy: 0.466667, val accuracy: 0.000000\n",
      "Loss: 7.710503, Train accuracy: 0.533333, val accuracy: 0.000000\n",
      "Loss: 6.078136, Train accuracy: 0.466667, val accuracy: 0.000000\n",
      "Loss: 3.786715, Train accuracy: 0.600000, val accuracy: 0.066667\n",
      "Loss: 7.846005, Train accuracy: 0.466667, val accuracy: 0.066667\n",
      "Loss: 5.489718, Train accuracy: 0.600000, val accuracy: 0.066667\n",
      "Loss: 4.834406, Train accuracy: 0.600000, val accuracy: 0.066667\n",
      "Loss: 6.779897, Train accuracy: 0.600000, val accuracy: 0.066667\n",
      "Loss: 6.135843, Train accuracy: 0.533333, val accuracy: 0.066667\n",
      "Loss: 7.016833, Train accuracy: 0.600000, val accuracy: 0.066667\n",
      "Loss: 5.993569, Train accuracy: 0.666667, val accuracy: 0.066667\n",
      "Loss: 7.471581, Train accuracy: 0.666667, val accuracy: 0.066667\n",
      "Loss: 10.211928, Train accuracy: 0.666667, val accuracy: 0.066667\n",
      "Loss: 8.114771, Train accuracy: 0.666667, val accuracy: 0.066667\n",
      "Loss: 5.802002, Train accuracy: 0.666667, val accuracy: 0.066667\n",
      "Loss: 3.663978, Train accuracy: 0.733333, val accuracy: 0.066667\n",
      "Loss: 7.264265, Train accuracy: 0.733333, val accuracy: 0.066667\n",
      "Loss: 4.158013, Train accuracy: 0.733333, val accuracy: 0.066667\n",
      "Loss: 3.846345, Train accuracy: 0.733333, val accuracy: 0.066667\n",
      "Loss: 5.126989, Train accuracy: 0.733333, val accuracy: 0.066667\n",
      "Loss: 5.501138, Train accuracy: 0.800000, val accuracy: 0.066667\n",
      "Loss: 2.291480, Train accuracy: 0.733333, val accuracy: 0.066667\n",
      "Loss: 4.486792, Train accuracy: 0.800000, val accuracy: 0.066667\n",
      "Loss: 4.235610, Train accuracy: 0.800000, val accuracy: 0.066667\n",
      "Loss: 4.117045, Train accuracy: 0.800000, val accuracy: 0.066667\n",
      "Loss: 6.995074, Train accuracy: 0.800000, val accuracy: 0.066667\n",
      "Loss: 5.250267, Train accuracy: 0.800000, val accuracy: 0.066667\n",
      "Loss: 4.951874, Train accuracy: 0.800000, val accuracy: 0.066667\n",
      "Loss: 2.495518, Train accuracy: 0.800000, val accuracy: 0.066667\n",
      "Loss: 2.884779, Train accuracy: 0.800000, val accuracy: 0.066667\n",
      "Loss: 3.813761, Train accuracy: 0.800000, val accuracy: 0.066667\n",
      "Loss: 3.434494, Train accuracy: 0.800000, val accuracy: 0.066667\n",
      "Loss: 2.544098, Train accuracy: 0.800000, val accuracy: 0.066667\n",
      "Loss: 4.105330, Train accuracy: 0.800000, val accuracy: 0.066667\n",
      "Loss: 6.419877, Train accuracy: 0.800000, val accuracy: 0.066667\n",
      "Loss: 4.737241, Train accuracy: 0.800000, val accuracy: 0.066667\n",
      "Loss: 2.169370, Train accuracy: 0.800000, val accuracy: 0.066667\n",
      "Loss: 6.191335, Train accuracy: 0.866667, val accuracy: 0.066667\n",
      "Loss: 2.655546, Train accuracy: 0.866667, val accuracy: 0.066667\n",
      "Loss: 4.416085, Train accuracy: 0.866667, val accuracy: 0.066667\n",
      "Loss: 2.705532, Train accuracy: 0.866667, val accuracy: 0.066667\n",
      "Loss: 0.466919, Train accuracy: 0.866667, val accuracy: 0.066667\n",
      "Loss: 3.349233, Train accuracy: 0.866667, val accuracy: 0.066667\n",
      "Loss: 0.753707, Train accuracy: 0.866667, val accuracy: 0.066667\n",
      "Loss: 3.199291, Train accuracy: 0.866667, val accuracy: 0.066667\n",
      "Loss: 0.791417, Train accuracy: 0.866667, val accuracy: 0.066667\n",
      "Loss: 1.798300, Train accuracy: 0.866667, val accuracy: 0.066667\n",
      "Loss: 3.753613, Train accuracy: 0.866667, val accuracy: 0.066667\n",
      "Loss: 1.767622, Train accuracy: 0.866667, val accuracy: 0.066667\n",
      "Loss: 0.408522, Train accuracy: 0.866667, val accuracy: 0.066667\n",
      "Loss: 1.638545, Train accuracy: 0.866667, val accuracy: 0.066667\n",
      "Loss: 2.182436, Train accuracy: 0.866667, val accuracy: 0.066667\n",
      "Loss: 1.352536, Train accuracy: 0.933333, val accuracy: 0.066667\n",
      "Loss: 1.295130, Train accuracy: 0.933333, val accuracy: 0.066667\n",
      "Loss: 1.419351, Train accuracy: 0.933333, val accuracy: 0.066667\n",
      "Loss: 1.114229, Train accuracy: 0.933333, val accuracy: 0.066667\n",
      "Loss: 3.545607, Train accuracy: 1.000000, val accuracy: 0.066667\n",
      "Loss: 1.041285, Train accuracy: 1.000000, val accuracy: 0.066667\n",
      "Loss: 2.275200, Train accuracy: 1.000000, val accuracy: 0.066667\n",
      "Loss: 1.200376, Train accuracy: 1.000000, val accuracy: 0.066667\n",
      "Loss: 1.505830, Train accuracy: 1.000000, val accuracy: 0.066667\n",
      "Loss: 0.503560, Train accuracy: 1.000000, val accuracy: 0.066667\n",
      "Loss: 1.469715, Train accuracy: 1.000000, val accuracy: 0.066667\n",
      "Loss: 2.222570, Train accuracy: 1.000000, val accuracy: 0.066667\n",
      "Loss: 1.727169, Train accuracy: 1.000000, val accuracy: 0.066667\n",
      "Loss: 0.306322, Train accuracy: 1.000000, val accuracy: 0.066667\n",
      "Loss: 1.219150, Train accuracy: 1.000000, val accuracy: 0.066667\n",
      "Loss: 1.966518, Train accuracy: 1.000000, val accuracy: 0.066667\n",
      "Loss: 1.770269, Train accuracy: 1.000000, val accuracy: 0.066667\n",
      "Loss: 1.048039, Train accuracy: 1.000000, val accuracy: 0.066667\n",
      "Loss: 0.861393, Train accuracy: 1.000000, val accuracy: 0.066667\n",
      "Loss: 0.263086, Train accuracy: 1.000000, val accuracy: 0.066667\n",
      "Loss: 0.787960, Train accuracy: 1.000000, val accuracy: 0.066667\n",
      "Loss: 0.940524, Train accuracy: 1.000000, val accuracy: 0.066667\n",
      "Loss: 0.980268, Train accuracy: 1.000000, val accuracy: 0.066667\n",
      "Loss: 0.326026, Train accuracy: 1.000000, val accuracy: 0.066667\n",
      "Loss: 0.968369, Train accuracy: 1.000000, val accuracy: 0.066667\n",
      "Loss: 0.564062, Train accuracy: 1.000000, val accuracy: 0.066667\n",
      "Loss: 0.659465, Train accuracy: 1.000000, val accuracy: 0.066667\n",
      "Loss: 0.382784, Train accuracy: 1.000000, val accuracy: 0.066667\n",
      "Loss: 1.225858, Train accuracy: 1.000000, val accuracy: 0.066667\n",
      "Loss: 0.679842, Train accuracy: 1.000000, val accuracy: 0.066667\n",
      "Loss: 0.734667, Train accuracy: 1.000000, val accuracy: 0.066667\n",
      "Loss: 0.309710, Train accuracy: 1.000000, val accuracy: 0.066667\n",
      "Loss: 0.434292, Train accuracy: 1.000000, val accuracy: 0.066667\n",
      "Loss: 0.426171, Train accuracy: 1.000000, val accuracy: 0.066667\n",
      "Loss: 0.508879, Train accuracy: 1.000000, val accuracy: 0.066667\n",
      "Loss: 0.241056, Train accuracy: 1.000000, val accuracy: 0.066667\n",
      "Loss: 0.508857, Train accuracy: 1.000000, val accuracy: 0.066667\n",
      "Loss: 0.223106, Train accuracy: 1.000000, val accuracy: 0.066667\n",
      "Loss: 0.466573, Train accuracy: 1.000000, val accuracy: 0.066667\n",
      "Loss: 0.503532, Train accuracy: 1.000000, val accuracy: 0.066667\n",
      "Loss: 0.297097, Train accuracy: 1.000000, val accuracy: 0.066667\n",
      "Loss: 0.228836, Train accuracy: 1.000000, val accuracy: 0.066667\n",
      "Loss: 0.337740, Train accuracy: 1.000000, val accuracy: 0.066667\n",
      "Loss: 0.376568, Train accuracy: 1.000000, val accuracy: 0.066667\n",
      "Loss: 0.312414, Train accuracy: 1.000000, val accuracy: 0.066667\n",
      "Loss: 0.418851, Train accuracy: 1.000000, val accuracy: 0.066667\n"
     ]
    },
    {
     "name": "stdout",
     "output_type": "stream",
     "text": [
      "Loss: 0.506545, Train accuracy: 1.000000, val accuracy: 0.066667\n",
      "Loss: 0.345916, Train accuracy: 1.000000, val accuracy: 0.066667\n",
      "Loss: 0.225324, Train accuracy: 1.000000, val accuracy: 0.066667\n",
      "Loss: 0.464166, Train accuracy: 1.000000, val accuracy: 0.066667\n",
      "Loss: 0.307406, Train accuracy: 1.000000, val accuracy: 0.066667\n",
      "Loss: 0.167503, Train accuracy: 1.000000, val accuracy: 0.066667\n",
      "Loss: 0.452729, Train accuracy: 1.000000, val accuracy: 0.066667\n",
      "Loss: 0.267208, Train accuracy: 1.000000, val accuracy: 0.066667\n",
      "Loss: 0.403749, Train accuracy: 1.000000, val accuracy: 0.066667\n",
      "Loss: 0.284669, Train accuracy: 1.000000, val accuracy: 0.066667\n",
      "Loss: 0.443613, Train accuracy: 1.000000, val accuracy: 0.066667\n",
      "Loss: 0.376238, Train accuracy: 1.000000, val accuracy: 0.066667\n",
      "Loss: 0.236467, Train accuracy: 1.000000, val accuracy: 0.066667\n",
      "Loss: 0.242468, Train accuracy: 1.000000, val accuracy: 0.066667\n",
      "Loss: 0.368469, Train accuracy: 1.000000, val accuracy: 0.066667\n"
     ]
    }
   ],
   "source": [
    "# ИЗМЕНИЛ ГИПЕРПАРАМЕТРЫ\n",
    "\n",
    "data_size = 15\n",
    "model = TwoLayerNet(n_input = train_X.shape[1], n_output = 10, hidden_layer_size = 100, reg = 1e-2)# 0.001)# 1e-1)\n",
    "dataset = Dataset(train_X[:data_size], train_y[:data_size], val_X[:data_size], val_y[:data_size])\n",
    "trainer = Trainer(model, dataset, SGD(), learning_rate=1e-2, num_epochs=150, batch_size=5)\n",
    "\n",
    "\n",
    "# You should expect this to reach 1.0 training accuracy \n",
    "loss_history, train_history, val_history = trainer.fit()"
   ]
  },
  {
   "cell_type": "markdown",
   "metadata": {},
   "source": [
    "Теперь найдем гипепараметры, для которых этот процесс сходится быстрее.\n",
    "Если все реализовано корректно, то существуют параметры, при которых процесс сходится в **20** эпох или еще быстрее.\n",
    "Найдите их!"
   ]
  },
  {
   "cell_type": "code",
   "execution_count": 300,
   "metadata": {},
   "outputs": [
    {
     "name": "stdout",
     "output_type": "stream",
     "text": [
      "Loss: 11.535030, Train accuracy: 0.200000, val accuracy: 0.133333\n",
      "Loss: 11.431229, Train accuracy: 0.200000, val accuracy: 0.066667\n",
      "Loss: 11.249207, Train accuracy: 0.333333, val accuracy: 0.066667\n",
      "Loss: 11.353869, Train accuracy: 0.333333, val accuracy: 0.066667\n",
      "Loss: 10.466695, Train accuracy: 0.266667, val accuracy: 0.000000\n",
      "Loss: 10.245707, Train accuracy: 0.400000, val accuracy: 0.000000\n",
      "Loss: 8.070540, Train accuracy: 0.400000, val accuracy: 0.000000\n",
      "Loss: 10.446279, Train accuracy: 0.400000, val accuracy: 0.000000\n",
      "Loss: 14.844004, Train accuracy: 0.400000, val accuracy: 0.066667\n",
      "Loss: 8.432337, Train accuracy: 0.400000, val accuracy: 0.133333\n",
      "Loss: 10.779206, Train accuracy: 0.466667, val accuracy: 0.066667\n",
      "Loss: 10.942482, Train accuracy: 0.533333, val accuracy: 0.000000\n",
      "Loss: 7.234032, Train accuracy: 0.600000, val accuracy: 0.000000\n",
      "Loss: 3.917836, Train accuracy: 0.733333, val accuracy: 0.066667\n",
      "Loss: 2.452774, Train accuracy: 0.733333, val accuracy: 0.000000\n",
      "Loss: 4.142696, Train accuracy: 0.800000, val accuracy: 0.000000\n",
      "Loss: 1.329523, Train accuracy: 0.800000, val accuracy: 0.000000\n",
      "Loss: 1.146786, Train accuracy: 1.000000, val accuracy: 0.066667\n",
      "Loss: 0.789615, Train accuracy: 1.000000, val accuracy: 0.000000\n",
      "Loss: 1.652097, Train accuracy: 1.000000, val accuracy: 0.000000\n"
     ]
    }
   ],
   "source": [
    "# Now, tweak some hyper parameters and make it train to 1.0 accuracy in 20 epochs or less\n",
    "\n",
    "model = TwoLayerNet(n_input = train_X.shape[1], n_output = 10, hidden_layer_size = 100, reg = 1e-3)\n",
    "dataset = Dataset(train_X[:data_size], train_y[:data_size], val_X[:data_size], val_y[:data_size])\n",
    "# TODO: Change any hyperparamers or optimizators to reach training accuracy in 20 epochs\n",
    "trainer = Trainer(model, dataset, MomentumSGD(), learning_rate=1e-2, num_epochs=20, batch_size=5 , \n",
    "                 learning_rate_decay=0.99999)\n",
    "# MomentumSGD(), learning_rate=1e-4, learning_rate_decay=0.99\n",
    "loss_history, train_history, val_history = trainer.fit()"
   ]
  },
  {
   "cell_type": "markdown",
   "metadata": {},
   "source": [
    "# Итак, основное мероприятие!\n",
    "\n",
    "Натренируйте лучшую нейросеть! Можно добавлять и изменять параметры, менять количество нейронов в слоях сети и как угодно экспериментировать. \n",
    "\n",
    "Добейтесь точности лучше **60%** на validation set."
   ]
  },
  {
   "cell_type": "code",
   "execution_count": 301,
   "metadata": {},
   "outputs": [
    {
     "name": "stdout",
     "output_type": "stream",
     "text": [
      "Loss: 43.775147, Train accuracy: 0.196667, val accuracy: 0.206000\n",
      "Loss: 41.051883, Train accuracy: 0.196667, val accuracy: 0.206000\n",
      "Loss: 41.936233, Train accuracy: 0.196667, val accuracy: 0.206000\n",
      "Loss: 46.746398, Train accuracy: 0.196667, val accuracy: 0.206000\n",
      "Loss: 38.138885, Train accuracy: 0.231000, val accuracy: 0.239000\n",
      "Loss: 45.921836, Train accuracy: 0.268111, val accuracy: 0.266000\n",
      "Loss: 40.344411, Train accuracy: 0.281222, val accuracy: 0.287000\n",
      "Loss: 39.959366, Train accuracy: 0.334667, val accuracy: 0.340000\n",
      "Loss: 30.910091, Train accuracy: 0.406667, val accuracy: 0.398000\n",
      "Loss: 27.576224, Train accuracy: 0.444222, val accuracy: 0.438000\n",
      "Loss: 25.346305, Train accuracy: 0.494444, val accuracy: 0.491000\n",
      "Loss: 34.031810, Train accuracy: 0.528333, val accuracy: 0.514000\n",
      "Loss: 29.992170, Train accuracy: 0.568778, val accuracy: 0.564000\n",
      "Loss: 28.089445, Train accuracy: 0.588222, val accuracy: 0.578000\n",
      "Loss: 23.396993, Train accuracy: 0.615111, val accuracy: 0.607000\n",
      "Loss: 23.475607, Train accuracy: 0.640111, val accuracy: 0.627000\n",
      "Loss: 28.371571, Train accuracy: 0.653556, val accuracy: 0.640000\n",
      "Loss: 16.759605, Train accuracy: 0.668556, val accuracy: 0.656000\n",
      "Loss: 12.382637, Train accuracy: 0.678000, val accuracy: 0.660000\n",
      "Loss: 22.778239, Train accuracy: 0.682111, val accuracy: 0.663000\n"
     ]
    }
   ],
   "source": [
    "model = TwoLayerNet(n_input = train_X.shape[1], n_output = 10, hidden_layer_size = 100, reg =0.001) # 1e-1)\n",
    "dataset = Dataset(train_X, train_y, val_X, val_y)\n",
    "trainer = Trainer(model, dataset, MomentumSGD(), learning_rate=1e-4, learning_rate_decay=0.99)\n",
    "\n",
    "# You should see even better results than before!\n",
    "loss_history, train_history, val_history = trainer.fit()"
   ]
  },
  {
   "cell_type": "code",
   "execution_count": null,
   "metadata": {
    "scrolled": true
   },
   "outputs": [],
   "source": [
    "# Let's train the best one-hidden-layer network we can\n",
    "\n",
    "learning_rates = 1e-4\n",
    "reg_strength = 1e-3\n",
    "learning_rate_decay = 0.999\n",
    "hidden_layer_size = 128\n",
    "num_epochs = 200\n",
    "batch_size = 64\n",
    "\n",
    "best_classifier = None\n",
    "best_val_accuracy = None\n",
    "\n",
    "loss_history = []\n",
    "train_history = []\n",
    "val_history = []\n",
    "\n",
    "# TODO find the best hyperparameters to train the network\n",
    "# Don't hesitate to add new values to the arrays above, perform experiments, use any tricks you want\n",
    "# You should expect to get to at least 40% of valudation accuracy\n",
    "# Save loss/train/history of the best classifier to the variables above\n",
    "\n",
    "print('best validation accuracy achieved: %f' % best_val_accuracy)"
   ]
  },
  {
   "cell_type": "code",
   "execution_count": 302,
   "metadata": {},
   "outputs": [
    {
     "data": {
      "text/plain": [
       "[<matplotlib.lines.Line2D at 0x11e8e2210>]"
      ]
     },
     "execution_count": 302,
     "metadata": {},
     "output_type": "execute_result"
    },
    {
     "data": {
      "image/png": "[encoded data removed]",
      "text/plain": [
       "<Figure size 1080x504 with 2 Axes>"
      ]
     },
     "metadata": {
      "needs_background": "light"
     },
     "output_type": "display_data"
    }
   ],
   "source": [
    "plt.figure(figsize=(15, 7))\n",
    "plt.subplot(211)\n",
    "plt.title(\"Loss\")\n",
    "plt.plot(loss_history)\n",
    "plt.subplot(212)\n",
    "plt.title(\"Train/validation accuracy\")\n",
    "plt.plot(train_history)\n",
    "plt.plot(val_history)"
   ]
  },
  {
   "cell_type": "code",
   "execution_count": 303,
   "metadata": {},
   "outputs": [],
   "source": [
    "best_classifier = model"
   ]
  },
  {
   "cell_type": "markdown",
   "metadata": {},
   "source": [
    "# Как обычно, посмотрим, как наша лучшая модель работает на тестовых данных"
   ]
  },
  {
   "cell_type": "code",
   "execution_count": 304,
   "metadata": {},
   "outputs": [
    {
     "name": "stdout",
     "output_type": "stream",
     "text": [
      "Neural net test set accuracy: 0.630000\n"
     ]
    }
   ],
   "source": [
    "test_pred = best_classifier.predict(test_X)\n",
    "test_accuracy = multiclass_accuracy(test_pred, test_y)\n",
    "print('Neural net test set accuracy: %f' % (test_accuracy, ))"
   ]
  }
 ],
 "metadata": {
  "kernelspec": {
   "display_name": "Python 3",
   "language": "python",
   "name": "python3"
  },
  "language_info": {
   "codemirror_mode": {
    "name": "ipython",
    "version": 3
   },
   "file_extension": ".py",
   "mimetype": "text/x-python",
   "name": "python",
   "nbconvert_exporter": "python",
   "pygments_lexer": "ipython3",
   "version": "3.7.4"
  }
 },
 "nbformat": 4,
 "nbformat_minor": 2
}
